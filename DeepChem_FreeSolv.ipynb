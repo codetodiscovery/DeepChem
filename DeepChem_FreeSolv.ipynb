{
  "nbformat": 4,
  "nbformat_minor": 0,
  "metadata": {
    "colab": {
      "provenance": []
    },
    "kernelspec": {
      "name": "python3",
      "display_name": "Python 3"
    },
    "language_info": {
      "name": "python"
    }
  },
  "cells": [
    {
      "cell_type": "code",
      "source": [
        "!python --version"
      ],
      "metadata": {
        "colab": {
          "base_uri": "https://localhost:8080/"
        },
        "id": "TSpzXkwzykuR",
        "outputId": "d8faeb6f-8c95-4af0-9774-94223149c9d3"
      },
      "execution_count": 1,
      "outputs": [
        {
          "output_type": "stream",
          "name": "stdout",
          "text": [
            "Python 3.11.11\n"
          ]
        }
      ]
    },
    {
      "cell_type": "code",
      "source": [
        "import os\n",
        "os.environ[\"TF_USE_LEGACY_KERAS\"] = \"1\""
      ],
      "metadata": {
        "id": "okZDQU5xF138"
      },
      "execution_count": 2,
      "outputs": []
    },
    {
      "cell_type": "code",
      "source": [
        "%%capture\n",
        "!pip install torch==2.4.0 torchvision==0.19.0 torchaudio==2.4.0\n",
        "!pip install  dgl -f https://data.dgl.ai/wheels/torch-2.4/repo.html\n",
        "!pip install deepchem\n",
        "!pip install dgllife"
      ],
      "metadata": {
        "id": "L9Kn16zFkBKC"
      },
      "execution_count": 3,
      "outputs": []
    },
    {
      "cell_type": "code",
      "source": [
        "import numpy as np\n",
        "import pandas as pd\n",
        "import torch\n",
        "import dgl\n",
        "import dgllife\n",
        "import deepchem as dc\n",
        "\n",
        "from sklearn.model_selection import train_test_split\n",
        "\n",
        "print(\"Numpy Version : \", np.__version__)\n",
        "print(\"Pandas Version : \", pd.__version__)\n",
        "print(\"Pytorch Version : \", torch.__version__)\n",
        "print(\"Dgl Version : \", dgl.__version__)\n",
        "print(\"Dgllife Version : \", dgllife.__version__)\n",
        "print(\"DeepChem Version : \", dc.__version__)"
      ],
      "metadata": {
        "id": "u8LXMHSapfM7",
        "colab": {
          "base_uri": "https://localhost:8080/"
        },
        "outputId": "2c955d15-4160-4d7d-df78-a06fc0ad4f95"
      },
      "execution_count": 4,
      "outputs": [
        {
          "output_type": "stream",
          "name": "stderr",
          "text": [
            "DGL backend not selected or invalid.  Assuming PyTorch for now.\n"
          ]
        },
        {
          "output_type": "stream",
          "name": "stdout",
          "text": [
            "Setting the default backend to \"pytorch\". You can change it in the ~/.dgl/config.json file or export the DGLBACKEND environment variable.  Valid options are: pytorch, mxnet, tensorflow (all lowercase)\n"
          ]
        },
        {
          "output_type": "stream",
          "name": "stderr",
          "text": [
            "WARNING:deepchem.feat.molecule_featurizers.rdkit_descriptors:No normalization for SPS. Feature removed!\n",
            "WARNING:deepchem.feat.molecule_featurizers.rdkit_descriptors:No normalization for AvgIpc. Feature removed!\n",
            "WARNING:deepchem.feat.molecule_featurizers.rdkit_descriptors:No normalization for NumAmideBonds. Feature removed!\n",
            "WARNING:deepchem.feat.molecule_featurizers.rdkit_descriptors:No normalization for NumAtomStereoCenters. Feature removed!\n",
            "WARNING:deepchem.feat.molecule_featurizers.rdkit_descriptors:No normalization for NumBridgeheadAtoms. Feature removed!\n",
            "WARNING:deepchem.feat.molecule_featurizers.rdkit_descriptors:No normalization for NumHeterocycles. Feature removed!\n",
            "WARNING:deepchem.feat.molecule_featurizers.rdkit_descriptors:No normalization for NumSpiroAtoms. Feature removed!\n",
            "WARNING:deepchem.feat.molecule_featurizers.rdkit_descriptors:No normalization for NumUnspecifiedAtomStereoCenters. Feature removed!\n",
            "WARNING:deepchem.feat.molecule_featurizers.rdkit_descriptors:No normalization for Phi. Feature removed!\n",
            "\u001b[34m\u001b[1mwandb\u001b[0m: \u001b[33mWARNING\u001b[0m W&B installed but not logged in.  Run `wandb login` or set the WANDB_API_KEY env variable.\n",
            "WARNING:tensorflow:From /usr/local/lib/python3.11/dist-packages/tensorflow/python/util/deprecation.py:588: calling function (from tensorflow.python.eager.polymorphic_function.polymorphic_function) with experimental_relax_shapes is deprecated and will be removed in a future version.\n",
            "Instructions for updating:\n",
            "experimental_relax_shapes is deprecated, use reduce_retracing instead\n",
            "\u001b[34m\u001b[1mwandb\u001b[0m: \u001b[33mWARNING\u001b[0m W&B installed but not logged in.  Run `wandb login` or set the WANDB_API_KEY env variable.\n",
            "WARNING:deepchem.models.torch_models:Skipped loading modules with pytorch-geometric dependency, missing a dependency. No module named 'torch_geometric'\n",
            "WARNING:deepchem.models:Skipped loading modules with pytorch-geometric dependency, missing a dependency. cannot import name 'DMPNN' from 'deepchem.models.torch_models' (/usr/local/lib/python3.11/dist-packages/deepchem/models/torch_models/__init__.py)\n",
            "WARNING:deepchem.models:Skipped loading modules with pytorch-lightning dependency, missing a dependency. No module named 'lightning'\n",
            "WARNING:deepchem.models:Skipped loading some Jax models, missing a dependency. No module named 'haiku'\n"
          ]
        },
        {
          "output_type": "stream",
          "name": "stdout",
          "text": [
            "Numpy Version :  2.0.2\n",
            "Pandas Version :  2.2.2\n",
            "Pytorch Version :  2.4.0+cu121\n",
            "Dgl Version :  2.4.0\n",
            "Dgllife Version :  0.3.2\n",
            "DeepChem Version :  2.8.0\n"
          ]
        }
      ]
    },
    {
      "cell_type": "code",
      "source": [
        "df = pd.read_csv('SAMPL.csv')"
      ],
      "metadata": {
        "id": "bgZ73dIyGCRe"
      },
      "execution_count": 5,
      "outputs": []
    },
    {
      "cell_type": "code",
      "source": [
        "df.head()"
      ],
      "metadata": {
        "id": "VLa96rGwGGNu",
        "colab": {
          "base_uri": "https://localhost:8080/",
          "height": 206
        },
        "outputId": "85cb279e-d0c9-4549-bc17-be632422d221"
      },
      "execution_count": null,
      "outputs": [
        {
          "output_type": "execute_result",
          "data": {
            "text/plain": [
              "                              iupac                  smiles   expt   calc\n",
              "0  4-methoxy-N,N-dimethyl-benzamide  CN(C)C(=O)c1ccc(cc1)OC -11.01 -9.625\n",
              "1          methanesulfonyl chloride            CS(=O)(=O)Cl  -4.87 -6.219\n",
              "2                 3-methylbut-1-ene                CC(C)C=C   1.83  2.452\n",
              "3                   2-ethylpyrazine              CCc1cnccn1  -5.45 -5.809\n",
              "4                       heptan-1-ol                CCCCCCCO  -4.21 -2.917"
            ],
            "text/html": [
              "\n",
              "  <div id=\"df-f6d46dc1-2ab4-4c7c-944d-655afd06ebed\" class=\"colab-df-container\">\n",
              "    <div>\n",
              "<style scoped>\n",
              "    .dataframe tbody tr th:only-of-type {\n",
              "        vertical-align: middle;\n",
              "    }\n",
              "\n",
              "    .dataframe tbody tr th {\n",
              "        vertical-align: top;\n",
              "    }\n",
              "\n",
              "    .dataframe thead th {\n",
              "        text-align: right;\n",
              "    }\n",
              "</style>\n",
              "<table border=\"1\" class=\"dataframe\">\n",
              "  <thead>\n",
              "    <tr style=\"text-align: right;\">\n",
              "      <th></th>\n",
              "      <th>iupac</th>\n",
              "      <th>smiles</th>\n",
              "      <th>expt</th>\n",
              "      <th>calc</th>\n",
              "    </tr>\n",
              "  </thead>\n",
              "  <tbody>\n",
              "    <tr>\n",
              "      <th>0</th>\n",
              "      <td>4-methoxy-N,N-dimethyl-benzamide</td>\n",
              "      <td>CN(C)C(=O)c1ccc(cc1)OC</td>\n",
              "      <td>-11.01</td>\n",
              "      <td>-9.625</td>\n",
              "    </tr>\n",
              "    <tr>\n",
              "      <th>1</th>\n",
              "      <td>methanesulfonyl chloride</td>\n",
              "      <td>CS(=O)(=O)Cl</td>\n",
              "      <td>-4.87</td>\n",
              "      <td>-6.219</td>\n",
              "    </tr>\n",
              "    <tr>\n",
              "      <th>2</th>\n",
              "      <td>3-methylbut-1-ene</td>\n",
              "      <td>CC(C)C=C</td>\n",
              "      <td>1.83</td>\n",
              "      <td>2.452</td>\n",
              "    </tr>\n",
              "    <tr>\n",
              "      <th>3</th>\n",
              "      <td>2-ethylpyrazine</td>\n",
              "      <td>CCc1cnccn1</td>\n",
              "      <td>-5.45</td>\n",
              "      <td>-5.809</td>\n",
              "    </tr>\n",
              "    <tr>\n",
              "      <th>4</th>\n",
              "      <td>heptan-1-ol</td>\n",
              "      <td>CCCCCCCO</td>\n",
              "      <td>-4.21</td>\n",
              "      <td>-2.917</td>\n",
              "    </tr>\n",
              "  </tbody>\n",
              "</table>\n",
              "</div>\n",
              "    <div class=\"colab-df-buttons\">\n",
              "\n",
              "  <div class=\"colab-df-container\">\n",
              "    <button class=\"colab-df-convert\" onclick=\"convertToInteractive('df-f6d46dc1-2ab4-4c7c-944d-655afd06ebed')\"\n",
              "            title=\"Convert this dataframe to an interactive table.\"\n",
              "            style=\"display:none;\">\n",
              "\n",
              "  <svg xmlns=\"http://www.w3.org/2000/svg\" height=\"24px\" viewBox=\"0 -960 960 960\">\n",
              "    <path d=\"M120-120v-720h720v720H120Zm60-500h600v-160H180v160Zm220 220h160v-160H400v160Zm0 220h160v-160H400v160ZM180-400h160v-160H180v160Zm440 0h160v-160H620v160ZM180-180h160v-160H180v160Zm440 0h160v-160H620v160Z\"/>\n",
              "  </svg>\n",
              "    </button>\n",
              "\n",
              "  <style>\n",
              "    .colab-df-container {\n",
              "      display:flex;\n",
              "      gap: 12px;\n",
              "    }\n",
              "\n",
              "    .colab-df-convert {\n",
              "      background-color: #E8F0FE;\n",
              "      border: none;\n",
              "      border-radius: 50%;\n",
              "      cursor: pointer;\n",
              "      display: none;\n",
              "      fill: #1967D2;\n",
              "      height: 32px;\n",
              "      padding: 0 0 0 0;\n",
              "      width: 32px;\n",
              "    }\n",
              "\n",
              "    .colab-df-convert:hover {\n",
              "      background-color: #E2EBFA;\n",
              "      box-shadow: 0px 1px 2px rgba(60, 64, 67, 0.3), 0px 1px 3px 1px rgba(60, 64, 67, 0.15);\n",
              "      fill: #174EA6;\n",
              "    }\n",
              "\n",
              "    .colab-df-buttons div {\n",
              "      margin-bottom: 4px;\n",
              "    }\n",
              "\n",
              "    [theme=dark] .colab-df-convert {\n",
              "      background-color: #3B4455;\n",
              "      fill: #D2E3FC;\n",
              "    }\n",
              "\n",
              "    [theme=dark] .colab-df-convert:hover {\n",
              "      background-color: #434B5C;\n",
              "      box-shadow: 0px 1px 3px 1px rgba(0, 0, 0, 0.15);\n",
              "      filter: drop-shadow(0px 1px 2px rgba(0, 0, 0, 0.3));\n",
              "      fill: #FFFFFF;\n",
              "    }\n",
              "  </style>\n",
              "\n",
              "    <script>\n",
              "      const buttonEl =\n",
              "        document.querySelector('#df-f6d46dc1-2ab4-4c7c-944d-655afd06ebed button.colab-df-convert');\n",
              "      buttonEl.style.display =\n",
              "        google.colab.kernel.accessAllowed ? 'block' : 'none';\n",
              "\n",
              "      async function convertToInteractive(key) {\n",
              "        const element = document.querySelector('#df-f6d46dc1-2ab4-4c7c-944d-655afd06ebed');\n",
              "        const dataTable =\n",
              "          await google.colab.kernel.invokeFunction('convertToInteractive',\n",
              "                                                    [key], {});\n",
              "        if (!dataTable) return;\n",
              "\n",
              "        const docLinkHtml = 'Like what you see? Visit the ' +\n",
              "          '<a target=\"_blank\" href=https://colab.research.google.com/notebooks/data_table.ipynb>data table notebook</a>'\n",
              "          + ' to learn more about interactive tables.';\n",
              "        element.innerHTML = '';\n",
              "        dataTable['output_type'] = 'display_data';\n",
              "        await google.colab.output.renderOutput(dataTable, element);\n",
              "        const docLink = document.createElement('div');\n",
              "        docLink.innerHTML = docLinkHtml;\n",
              "        element.appendChild(docLink);\n",
              "      }\n",
              "    </script>\n",
              "  </div>\n",
              "\n",
              "\n",
              "<div id=\"df-c77ed95a-b328-4ec7-8186-1bcd9810c4dc\">\n",
              "  <button class=\"colab-df-quickchart\" onclick=\"quickchart('df-c77ed95a-b328-4ec7-8186-1bcd9810c4dc')\"\n",
              "            title=\"Suggest charts\"\n",
              "            style=\"display:none;\">\n",
              "\n",
              "<svg xmlns=\"http://www.w3.org/2000/svg\" height=\"24px\"viewBox=\"0 0 24 24\"\n",
              "     width=\"24px\">\n",
              "    <g>\n",
              "        <path d=\"M19 3H5c-1.1 0-2 .9-2 2v14c0 1.1.9 2 2 2h14c1.1 0 2-.9 2-2V5c0-1.1-.9-2-2-2zM9 17H7v-7h2v7zm4 0h-2V7h2v10zm4 0h-2v-4h2v4z\"/>\n",
              "    </g>\n",
              "</svg>\n",
              "  </button>\n",
              "\n",
              "<style>\n",
              "  .colab-df-quickchart {\n",
              "      --bg-color: #E8F0FE;\n",
              "      --fill-color: #1967D2;\n",
              "      --hover-bg-color: #E2EBFA;\n",
              "      --hover-fill-color: #174EA6;\n",
              "      --disabled-fill-color: #AAA;\n",
              "      --disabled-bg-color: #DDD;\n",
              "  }\n",
              "\n",
              "  [theme=dark] .colab-df-quickchart {\n",
              "      --bg-color: #3B4455;\n",
              "      --fill-color: #D2E3FC;\n",
              "      --hover-bg-color: #434B5C;\n",
              "      --hover-fill-color: #FFFFFF;\n",
              "      --disabled-bg-color: #3B4455;\n",
              "      --disabled-fill-color: #666;\n",
              "  }\n",
              "\n",
              "  .colab-df-quickchart {\n",
              "    background-color: var(--bg-color);\n",
              "    border: none;\n",
              "    border-radius: 50%;\n",
              "    cursor: pointer;\n",
              "    display: none;\n",
              "    fill: var(--fill-color);\n",
              "    height: 32px;\n",
              "    padding: 0;\n",
              "    width: 32px;\n",
              "  }\n",
              "\n",
              "  .colab-df-quickchart:hover {\n",
              "    background-color: var(--hover-bg-color);\n",
              "    box-shadow: 0 1px 2px rgba(60, 64, 67, 0.3), 0 1px 3px 1px rgba(60, 64, 67, 0.15);\n",
              "    fill: var(--button-hover-fill-color);\n",
              "  }\n",
              "\n",
              "  .colab-df-quickchart-complete:disabled,\n",
              "  .colab-df-quickchart-complete:disabled:hover {\n",
              "    background-color: var(--disabled-bg-color);\n",
              "    fill: var(--disabled-fill-color);\n",
              "    box-shadow: none;\n",
              "  }\n",
              "\n",
              "  .colab-df-spinner {\n",
              "    border: 2px solid var(--fill-color);\n",
              "    border-color: transparent;\n",
              "    border-bottom-color: var(--fill-color);\n",
              "    animation:\n",
              "      spin 1s steps(1) infinite;\n",
              "  }\n",
              "\n",
              "  @keyframes spin {\n",
              "    0% {\n",
              "      border-color: transparent;\n",
              "      border-bottom-color: var(--fill-color);\n",
              "      border-left-color: var(--fill-color);\n",
              "    }\n",
              "    20% {\n",
              "      border-color: transparent;\n",
              "      border-left-color: var(--fill-color);\n",
              "      border-top-color: var(--fill-color);\n",
              "    }\n",
              "    30% {\n",
              "      border-color: transparent;\n",
              "      border-left-color: var(--fill-color);\n",
              "      border-top-color: var(--fill-color);\n",
              "      border-right-color: var(--fill-color);\n",
              "    }\n",
              "    40% {\n",
              "      border-color: transparent;\n",
              "      border-right-color: var(--fill-color);\n",
              "      border-top-color: var(--fill-color);\n",
              "    }\n",
              "    60% {\n",
              "      border-color: transparent;\n",
              "      border-right-color: var(--fill-color);\n",
              "    }\n",
              "    80% {\n",
              "      border-color: transparent;\n",
              "      border-right-color: var(--fill-color);\n",
              "      border-bottom-color: var(--fill-color);\n",
              "    }\n",
              "    90% {\n",
              "      border-color: transparent;\n",
              "      border-bottom-color: var(--fill-color);\n",
              "    }\n",
              "  }\n",
              "</style>\n",
              "\n",
              "  <script>\n",
              "    async function quickchart(key) {\n",
              "      const quickchartButtonEl =\n",
              "        document.querySelector('#' + key + ' button');\n",
              "      quickchartButtonEl.disabled = true;  // To prevent multiple clicks.\n",
              "      quickchartButtonEl.classList.add('colab-df-spinner');\n",
              "      try {\n",
              "        const charts = await google.colab.kernel.invokeFunction(\n",
              "            'suggestCharts', [key], {});\n",
              "      } catch (error) {\n",
              "        console.error('Error during call to suggestCharts:', error);\n",
              "      }\n",
              "      quickchartButtonEl.classList.remove('colab-df-spinner');\n",
              "      quickchartButtonEl.classList.add('colab-df-quickchart-complete');\n",
              "    }\n",
              "    (() => {\n",
              "      let quickchartButtonEl =\n",
              "        document.querySelector('#df-c77ed95a-b328-4ec7-8186-1bcd9810c4dc button');\n",
              "      quickchartButtonEl.style.display =\n",
              "        google.colab.kernel.accessAllowed ? 'block' : 'none';\n",
              "    })();\n",
              "  </script>\n",
              "</div>\n",
              "\n",
              "    </div>\n",
              "  </div>\n"
            ],
            "application/vnd.google.colaboratory.intrinsic+json": {
              "type": "dataframe",
              "variable_name": "df",
              "summary": "{\n  \"name\": \"df\",\n  \"rows\": 642,\n  \"fields\": [\n    {\n      \"column\": \"iupac\",\n      \"properties\": {\n        \"dtype\": \"string\",\n        \"num_unique_values\": 642,\n        \"samples\": [\n          \"1-bromo-2-methyl-propane\",\n          \"1,2,4-trichlorodibenzo-p-dioxin\",\n          \"1-amino-9,10-anthracenedione\"\n        ],\n        \"semantic_type\": \"\",\n        \"description\": \"\"\n      }\n    },\n    {\n      \"column\": \"smiles\",\n      \"properties\": {\n        \"dtype\": \"string\",\n        \"num_unique_values\": 642,\n        \"samples\": [\n          \"CC(C)CBr\",\n          \"c1ccc2c(c1)Oc3c(cc(c(c3O2)Cl)Cl)Cl\",\n          \"c1ccc2c(c1)C(=O)c3cccc(c3C2=O)N\"\n        ],\n        \"semantic_type\": \"\",\n        \"description\": \"\"\n      }\n    },\n    {\n      \"column\": \"expt\",\n      \"properties\": {\n        \"dtype\": \"number\",\n        \"std\": 3.8478201171088138,\n        \"min\": -25.47,\n        \"max\": 3.43,\n        \"num_unique_values\": 486,\n        \"samples\": [\n          -1.2,\n          -2.78,\n          -13.43\n        ],\n        \"semantic_type\": \"\",\n        \"description\": \"\"\n      }\n    },\n    {\n      \"column\": \"calc\",\n      \"properties\": {\n        \"dtype\": \"number\",\n        \"std\": 4.186300812370095,\n        \"min\": -21.762,\n        \"max\": 3.335,\n        \"num_unique_values\": 619,\n        \"samples\": [\n          2.489,\n          -7.016,\n          2.588\n        ],\n        \"semantic_type\": \"\",\n        \"description\": \"\"\n      }\n    }\n  ]\n}"
            }
          },
          "metadata": {},
          "execution_count": 53
        }
      ]
    },
    {
      "cell_type": "code",
      "source": [
        "df.shape"
      ],
      "metadata": {
        "colab": {
          "base_uri": "https://localhost:8080/"
        },
        "id": "QPiYvs5CT1nU",
        "outputId": "4d5a15a4-316a-43fc-a74d-448af866e432"
      },
      "execution_count": null,
      "outputs": [
        {
          "output_type": "execute_result",
          "data": {
            "text/plain": [
              "(642, 4)"
            ]
          },
          "metadata": {},
          "execution_count": 54
        }
      ]
    },
    {
      "cell_type": "code",
      "source": [
        "train, test = train_test_split(df, test_size=0.20, random_state=42)"
      ],
      "metadata": {
        "id": "J7EvfCkJGRQG"
      },
      "execution_count": null,
      "outputs": []
    },
    {
      "cell_type": "code",
      "source": [
        "train.shape"
      ],
      "metadata": {
        "id": "rQ9_mH_9ME64",
        "colab": {
          "base_uri": "https://localhost:8080/"
        },
        "outputId": "51eca2e5-14c3-44cb-d9ec-b294f91bbe2b"
      },
      "execution_count": null,
      "outputs": [
        {
          "output_type": "execute_result",
          "data": {
            "text/plain": [
              "(513, 4)"
            ]
          },
          "metadata": {},
          "execution_count": 56
        }
      ]
    },
    {
      "cell_type": "code",
      "source": [
        "train.reset_index(drop=True, inplace=True)\n",
        "test.reset_index(drop=True, inplace=True)"
      ],
      "metadata": {
        "id": "zsl2f3s0GmN1"
      },
      "execution_count": null,
      "outputs": []
    },
    {
      "cell_type": "code",
      "source": [
        "df = pd.concat([train, test])\n",
        "df.head()"
      ],
      "metadata": {
        "id": "69uvp2iwfXWq",
        "colab": {
          "base_uri": "https://localhost:8080/",
          "height": 206
        },
        "outputId": "189ee1fd-e9f2-46a3-b4b3-84ada8591168"
      },
      "execution_count": null,
      "outputs": [
        {
          "output_type": "execute_result",
          "data": {
            "text/plain": [
              "                       iupac                          smiles  expt   calc\n",
              "0      N,N-dimethylformamide                        CN(C)C=O -7.81 -6.932\n",
              "1  2-chloro-2-methyl-propane                      CC(C)(C)Cl  1.09  0.826\n",
              "2        1,2-dinitroxyethane  C(CO[N+](=O)[O-])O[N+](=O)[O-] -5.73 -6.227\n",
              "3           2-propoxyethanol                         CCCOCCO -6.40 -3.940\n",
              "4          pentyl propanoate                   CCCCCOC(=O)CC -2.11 -2.176"
            ],
            "text/html": [
              "\n",
              "  <div id=\"df-260cb1fb-5e6b-49fc-8f3e-ef7869179966\" class=\"colab-df-container\">\n",
              "    <div>\n",
              "<style scoped>\n",
              "    .dataframe tbody tr th:only-of-type {\n",
              "        vertical-align: middle;\n",
              "    }\n",
              "\n",
              "    .dataframe tbody tr th {\n",
              "        vertical-align: top;\n",
              "    }\n",
              "\n",
              "    .dataframe thead th {\n",
              "        text-align: right;\n",
              "    }\n",
              "</style>\n",
              "<table border=\"1\" class=\"dataframe\">\n",
              "  <thead>\n",
              "    <tr style=\"text-align: right;\">\n",
              "      <th></th>\n",
              "      <th>iupac</th>\n",
              "      <th>smiles</th>\n",
              "      <th>expt</th>\n",
              "      <th>calc</th>\n",
              "    </tr>\n",
              "  </thead>\n",
              "  <tbody>\n",
              "    <tr>\n",
              "      <th>0</th>\n",
              "      <td>N,N-dimethylformamide</td>\n",
              "      <td>CN(C)C=O</td>\n",
              "      <td>-7.81</td>\n",
              "      <td>-6.932</td>\n",
              "    </tr>\n",
              "    <tr>\n",
              "      <th>1</th>\n",
              "      <td>2-chloro-2-methyl-propane</td>\n",
              "      <td>CC(C)(C)Cl</td>\n",
              "      <td>1.09</td>\n",
              "      <td>0.826</td>\n",
              "    </tr>\n",
              "    <tr>\n",
              "      <th>2</th>\n",
              "      <td>1,2-dinitroxyethane</td>\n",
              "      <td>C(CO[N+](=O)[O-])O[N+](=O)[O-]</td>\n",
              "      <td>-5.73</td>\n",
              "      <td>-6.227</td>\n",
              "    </tr>\n",
              "    <tr>\n",
              "      <th>3</th>\n",
              "      <td>2-propoxyethanol</td>\n",
              "      <td>CCCOCCO</td>\n",
              "      <td>-6.40</td>\n",
              "      <td>-3.940</td>\n",
              "    </tr>\n",
              "    <tr>\n",
              "      <th>4</th>\n",
              "      <td>pentyl propanoate</td>\n",
              "      <td>CCCCCOC(=O)CC</td>\n",
              "      <td>-2.11</td>\n",
              "      <td>-2.176</td>\n",
              "    </tr>\n",
              "  </tbody>\n",
              "</table>\n",
              "</div>\n",
              "    <div class=\"colab-df-buttons\">\n",
              "\n",
              "  <div class=\"colab-df-container\">\n",
              "    <button class=\"colab-df-convert\" onclick=\"convertToInteractive('df-260cb1fb-5e6b-49fc-8f3e-ef7869179966')\"\n",
              "            title=\"Convert this dataframe to an interactive table.\"\n",
              "            style=\"display:none;\">\n",
              "\n",
              "  <svg xmlns=\"http://www.w3.org/2000/svg\" height=\"24px\" viewBox=\"0 -960 960 960\">\n",
              "    <path d=\"M120-120v-720h720v720H120Zm60-500h600v-160H180v160Zm220 220h160v-160H400v160Zm0 220h160v-160H400v160ZM180-400h160v-160H180v160Zm440 0h160v-160H620v160ZM180-180h160v-160H180v160Zm440 0h160v-160H620v160Z\"/>\n",
              "  </svg>\n",
              "    </button>\n",
              "\n",
              "  <style>\n",
              "    .colab-df-container {\n",
              "      display:flex;\n",
              "      gap: 12px;\n",
              "    }\n",
              "\n",
              "    .colab-df-convert {\n",
              "      background-color: #E8F0FE;\n",
              "      border: none;\n",
              "      border-radius: 50%;\n",
              "      cursor: pointer;\n",
              "      display: none;\n",
              "      fill: #1967D2;\n",
              "      height: 32px;\n",
              "      padding: 0 0 0 0;\n",
              "      width: 32px;\n",
              "    }\n",
              "\n",
              "    .colab-df-convert:hover {\n",
              "      background-color: #E2EBFA;\n",
              "      box-shadow: 0px 1px 2px rgba(60, 64, 67, 0.3), 0px 1px 3px 1px rgba(60, 64, 67, 0.15);\n",
              "      fill: #174EA6;\n",
              "    }\n",
              "\n",
              "    .colab-df-buttons div {\n",
              "      margin-bottom: 4px;\n",
              "    }\n",
              "\n",
              "    [theme=dark] .colab-df-convert {\n",
              "      background-color: #3B4455;\n",
              "      fill: #D2E3FC;\n",
              "    }\n",
              "\n",
              "    [theme=dark] .colab-df-convert:hover {\n",
              "      background-color: #434B5C;\n",
              "      box-shadow: 0px 1px 3px 1px rgba(0, 0, 0, 0.15);\n",
              "      filter: drop-shadow(0px 1px 2px rgba(0, 0, 0, 0.3));\n",
              "      fill: #FFFFFF;\n",
              "    }\n",
              "  </style>\n",
              "\n",
              "    <script>\n",
              "      const buttonEl =\n",
              "        document.querySelector('#df-260cb1fb-5e6b-49fc-8f3e-ef7869179966 button.colab-df-convert');\n",
              "      buttonEl.style.display =\n",
              "        google.colab.kernel.accessAllowed ? 'block' : 'none';\n",
              "\n",
              "      async function convertToInteractive(key) {\n",
              "        const element = document.querySelector('#df-260cb1fb-5e6b-49fc-8f3e-ef7869179966');\n",
              "        const dataTable =\n",
              "          await google.colab.kernel.invokeFunction('convertToInteractive',\n",
              "                                                    [key], {});\n",
              "        if (!dataTable) return;\n",
              "\n",
              "        const docLinkHtml = 'Like what you see? Visit the ' +\n",
              "          '<a target=\"_blank\" href=https://colab.research.google.com/notebooks/data_table.ipynb>data table notebook</a>'\n",
              "          + ' to learn more about interactive tables.';\n",
              "        element.innerHTML = '';\n",
              "        dataTable['output_type'] = 'display_data';\n",
              "        await google.colab.output.renderOutput(dataTable, element);\n",
              "        const docLink = document.createElement('div');\n",
              "        docLink.innerHTML = docLinkHtml;\n",
              "        element.appendChild(docLink);\n",
              "      }\n",
              "    </script>\n",
              "  </div>\n",
              "\n",
              "\n",
              "<div id=\"df-b55fa054-dd93-4d3c-a86f-005dbe7c195f\">\n",
              "  <button class=\"colab-df-quickchart\" onclick=\"quickchart('df-b55fa054-dd93-4d3c-a86f-005dbe7c195f')\"\n",
              "            title=\"Suggest charts\"\n",
              "            style=\"display:none;\">\n",
              "\n",
              "<svg xmlns=\"http://www.w3.org/2000/svg\" height=\"24px\"viewBox=\"0 0 24 24\"\n",
              "     width=\"24px\">\n",
              "    <g>\n",
              "        <path d=\"M19 3H5c-1.1 0-2 .9-2 2v14c0 1.1.9 2 2 2h14c1.1 0 2-.9 2-2V5c0-1.1-.9-2-2-2zM9 17H7v-7h2v7zm4 0h-2V7h2v10zm4 0h-2v-4h2v4z\"/>\n",
              "    </g>\n",
              "</svg>\n",
              "  </button>\n",
              "\n",
              "<style>\n",
              "  .colab-df-quickchart {\n",
              "      --bg-color: #E8F0FE;\n",
              "      --fill-color: #1967D2;\n",
              "      --hover-bg-color: #E2EBFA;\n",
              "      --hover-fill-color: #174EA6;\n",
              "      --disabled-fill-color: #AAA;\n",
              "      --disabled-bg-color: #DDD;\n",
              "  }\n",
              "\n",
              "  [theme=dark] .colab-df-quickchart {\n",
              "      --bg-color: #3B4455;\n",
              "      --fill-color: #D2E3FC;\n",
              "      --hover-bg-color: #434B5C;\n",
              "      --hover-fill-color: #FFFFFF;\n",
              "      --disabled-bg-color: #3B4455;\n",
              "      --disabled-fill-color: #666;\n",
              "  }\n",
              "\n",
              "  .colab-df-quickchart {\n",
              "    background-color: var(--bg-color);\n",
              "    border: none;\n",
              "    border-radius: 50%;\n",
              "    cursor: pointer;\n",
              "    display: none;\n",
              "    fill: var(--fill-color);\n",
              "    height: 32px;\n",
              "    padding: 0;\n",
              "    width: 32px;\n",
              "  }\n",
              "\n",
              "  .colab-df-quickchart:hover {\n",
              "    background-color: var(--hover-bg-color);\n",
              "    box-shadow: 0 1px 2px rgba(60, 64, 67, 0.3), 0 1px 3px 1px rgba(60, 64, 67, 0.15);\n",
              "    fill: var(--button-hover-fill-color);\n",
              "  }\n",
              "\n",
              "  .colab-df-quickchart-complete:disabled,\n",
              "  .colab-df-quickchart-complete:disabled:hover {\n",
              "    background-color: var(--disabled-bg-color);\n",
              "    fill: var(--disabled-fill-color);\n",
              "    box-shadow: none;\n",
              "  }\n",
              "\n",
              "  .colab-df-spinner {\n",
              "    border: 2px solid var(--fill-color);\n",
              "    border-color: transparent;\n",
              "    border-bottom-color: var(--fill-color);\n",
              "    animation:\n",
              "      spin 1s steps(1) infinite;\n",
              "  }\n",
              "\n",
              "  @keyframes spin {\n",
              "    0% {\n",
              "      border-color: transparent;\n",
              "      border-bottom-color: var(--fill-color);\n",
              "      border-left-color: var(--fill-color);\n",
              "    }\n",
              "    20% {\n",
              "      border-color: transparent;\n",
              "      border-left-color: var(--fill-color);\n",
              "      border-top-color: var(--fill-color);\n",
              "    }\n",
              "    30% {\n",
              "      border-color: transparent;\n",
              "      border-left-color: var(--fill-color);\n",
              "      border-top-color: var(--fill-color);\n",
              "      border-right-color: var(--fill-color);\n",
              "    }\n",
              "    40% {\n",
              "      border-color: transparent;\n",
              "      border-right-color: var(--fill-color);\n",
              "      border-top-color: var(--fill-color);\n",
              "    }\n",
              "    60% {\n",
              "      border-color: transparent;\n",
              "      border-right-color: var(--fill-color);\n",
              "    }\n",
              "    80% {\n",
              "      border-color: transparent;\n",
              "      border-right-color: var(--fill-color);\n",
              "      border-bottom-color: var(--fill-color);\n",
              "    }\n",
              "    90% {\n",
              "      border-color: transparent;\n",
              "      border-bottom-color: var(--fill-color);\n",
              "    }\n",
              "  }\n",
              "</style>\n",
              "\n",
              "  <script>\n",
              "    async function quickchart(key) {\n",
              "      const quickchartButtonEl =\n",
              "        document.querySelector('#' + key + ' button');\n",
              "      quickchartButtonEl.disabled = true;  // To prevent multiple clicks.\n",
              "      quickchartButtonEl.classList.add('colab-df-spinner');\n",
              "      try {\n",
              "        const charts = await google.colab.kernel.invokeFunction(\n",
              "            'suggestCharts', [key], {});\n",
              "      } catch (error) {\n",
              "        console.error('Error during call to suggestCharts:', error);\n",
              "      }\n",
              "      quickchartButtonEl.classList.remove('colab-df-spinner');\n",
              "      quickchartButtonEl.classList.add('colab-df-quickchart-complete');\n",
              "    }\n",
              "    (() => {\n",
              "      let quickchartButtonEl =\n",
              "        document.querySelector('#df-b55fa054-dd93-4d3c-a86f-005dbe7c195f button');\n",
              "      quickchartButtonEl.style.display =\n",
              "        google.colab.kernel.accessAllowed ? 'block' : 'none';\n",
              "    })();\n",
              "  </script>\n",
              "</div>\n",
              "\n",
              "    </div>\n",
              "  </div>\n"
            ],
            "application/vnd.google.colaboratory.intrinsic+json": {
              "type": "dataframe",
              "variable_name": "df",
              "summary": "{\n  \"name\": \"df\",\n  \"rows\": 642,\n  \"fields\": [\n    {\n      \"column\": \"iupac\",\n      \"properties\": {\n        \"dtype\": \"string\",\n        \"num_unique_values\": 642,\n        \"samples\": [\n          \"piperazine\",\n          \"terbutryn\",\n          \"1,2,3-trichlorobenzene\"\n        ],\n        \"semantic_type\": \"\",\n        \"description\": \"\"\n      }\n    },\n    {\n      \"column\": \"smiles\",\n      \"properties\": {\n        \"dtype\": \"string\",\n        \"num_unique_values\": 642,\n        \"samples\": [\n          \"C1CNCCN1\",\n          \"CCNc1nc(nc(n1)SC)NC(C)(C)C\",\n          \"c1cc(c(c(c1)Cl)Cl)Cl\"\n        ],\n        \"semantic_type\": \"\",\n        \"description\": \"\"\n      }\n    },\n    {\n      \"column\": \"expt\",\n      \"properties\": {\n        \"dtype\": \"number\",\n        \"std\": 3.847820117108812,\n        \"min\": -25.47,\n        \"max\": 3.43,\n        \"num_unique_values\": 486,\n        \"samples\": [\n          0.52,\n          2.48,\n          -0.77\n        ],\n        \"semantic_type\": \"\",\n        \"description\": \"\"\n      }\n    },\n    {\n      \"column\": \"calc\",\n      \"properties\": {\n        \"dtype\": \"number\",\n        \"std\": 4.186300812370097,\n        \"min\": -21.762,\n        \"max\": 3.335,\n        \"num_unique_values\": 619,\n        \"samples\": [\n          -0.004,\n          2.995,\n          -3.148\n        ],\n        \"semantic_type\": \"\",\n        \"description\": \"\"\n      }\n    }\n  ]\n}"
            }
          },
          "metadata": {},
          "execution_count": 58
        }
      ]
    },
    {
      "cell_type": "code",
      "source": [
        "df.rename(columns={'expt': 'task1'}, inplace=True)"
      ],
      "metadata": {
        "id": "eSeCPcpuMHGC"
      },
      "execution_count": null,
      "outputs": []
    },
    {
      "cell_type": "markdown",
      "source": [
        "## **Loading custom dataset in DeepChem and featurization**"
      ],
      "metadata": {
        "id": "2SHeHVM2IlpA"
      }
    },
    {
      "cell_type": "code",
      "source": [
        "with dc.utils.UniversalNamedTemporaryFile(mode='w') as tmpfile:\n",
        "    df.to_csv(tmpfile.name)\n",
        "    loader = dc.data.CSVLoader([\"task1\"], feature_field=\"smiles\",\n",
        "                             featurizer=dc.feat.ConvMolFeaturizer(per_atom_fragmentation=False))\n",
        "    dataset = loader.create_dataset(tmpfile.name)\n",
        "len(dataset)"
      ],
      "metadata": {
        "id": "Z66o4zoyxbv4",
        "colab": {
          "base_uri": "https://localhost:8080/"
        },
        "outputId": "5cf89c7e-e60e-4b91-c4aa-3b94985aba5e"
      },
      "execution_count": null,
      "outputs": [
        {
          "output_type": "execute_result",
          "data": {
            "text/plain": [
              "642"
            ]
          },
          "metadata": {},
          "execution_count": 13
        }
      ]
    },
    {
      "cell_type": "code",
      "source": [
        "type(dataset)"
      ],
      "metadata": {
        "colab": {
          "base_uri": "https://localhost:8080/",
          "height": 186
        },
        "id": "vTJSD3YUUsdZ",
        "outputId": "b3e7005d-821f-4014-d573-4c07c698be2d"
      },
      "execution_count": null,
      "outputs": [
        {
          "output_type": "execute_result",
          "data": {
            "text/plain": [
              "deepchem.data.datasets.DiskDataset"
            ],
            "text/html": [
              "<div style=\"max-width:800px; border: 1px solid var(--colab-border-color);\"><style>\n",
              "      pre.function-repr-contents {\n",
              "        overflow-x: auto;\n",
              "        padding: 8px 12px;\n",
              "        max-height: 500px;\n",
              "      }\n",
              "\n",
              "      pre.function-repr-contents.function-repr-contents-collapsed {\n",
              "        cursor: pointer;\n",
              "        max-height: 100px;\n",
              "      }\n",
              "    </style>\n",
              "    <pre style=\"white-space: initial; background:\n",
              "         var(--colab-secondary-surface-color); padding: 8px 12px;\n",
              "         border-bottom: 1px solid var(--colab-border-color);\"><b>deepchem.data.datasets.DiskDataset</b><br/>def __init__(data_dir: str) -&gt; None</pre><pre class=\"function-repr-contents function-repr-contents-collapsed\" style=\"\"><a class=\"filepath\" style=\"display:none\" href=\"#\">/usr/local/lib/python3.11/dist-packages/deepchem/data/datasets.py</a>A Dataset that is stored as a set of files on disk.\n",
              "\n",
              "The DiskDataset is the workhorse class of DeepChem that facilitates analyses\n",
              "on large datasets. Use this class whenever you&#x27;re working with a large\n",
              "dataset that can&#x27;t be easily manipulated in RAM.\n",
              "\n",
              "On disk, a `DiskDataset` has a simple structure. All files for a given\n",
              "`DiskDataset` are stored in a `data_dir`. The contents of `data_dir` should\n",
              "be laid out as follows:\n",
              "\n",
              "| data_dir/\n",
              "|   |\n",
              "|   ---&gt; metadata.csv.gzip\n",
              "|   |\n",
              "|   ---&gt; tasks.json\n",
              "|   |\n",
              "|   ---&gt; shard-0-X.npy\n",
              "|   |\n",
              "|   ---&gt; shard-0-y.npy\n",
              "|   |\n",
              "|   ---&gt; shard-0-w.npy\n",
              "|   |\n",
              "|   ---&gt; shard-0-ids.npy\n",
              "|   |\n",
              "|   ---&gt; shard-1-X.npy\n",
              "|   .\n",
              "|   .\n",
              "|   .\n",
              "\n",
              "The metadata is constructed by static method\n",
              "`DiskDataset._construct_metadata` and saved to disk by\n",
              "`DiskDataset._save_metadata`. The metadata itself consists of a csv file\n",
              "which has columns `(&#x27;ids&#x27;, &#x27;X&#x27;, &#x27;y&#x27;, &#x27;w&#x27;, &#x27;ids_shape&#x27;, &#x27;X_shape&#x27;, &#x27;y_shape&#x27;,\n",
              "&#x27;w_shape&#x27;)`. `tasks.json` consists of a list of task names for this dataset.\n",
              "\n",
              "The actual data is stored in `.npy` files (numpy array files) of the form\n",
              "&#x27;shard-0-X.npy&#x27;, &#x27;shard-0-y.npy&#x27;, etc.\n",
              "\n",
              "The basic structure of `DiskDataset` is quite robust and will likely serve\n",
              "you well for datasets up to about 100 GB or larger. However note that\n",
              "`DiskDataset` has not been tested for very large datasets at the terabyte\n",
              "range and beyond. You may be better served by implementing a custom\n",
              "`Dataset` class for those use cases.\n",
              "\n",
              "Examples\n",
              "--------\n",
              "Let&#x27;s walk through a simple example of constructing a new `DiskDataset`.\n",
              "\n",
              "&gt;&gt;&gt; import deepchem as dc\n",
              "&gt;&gt;&gt; import numpy as np\n",
              "&gt;&gt;&gt; X = np.random.rand(10, 10)\n",
              "&gt;&gt;&gt; dataset = dc.data.DiskDataset.from_numpy(X)\n",
              "\n",
              "If you have already saved a `DiskDataset` to `data_dir`, you can reinitialize it with\n",
              "\n",
              "&gt;&gt; data_dir = &quot;/path/to/my/data&quot;\n",
              "&gt;&gt; dataset = dc.data.DiskDataset(data_dir)\n",
              "\n",
              "Once you have a dataset you can access its attributes as follows\n",
              "\n",
              "&gt;&gt;&gt; X = np.random.rand(10, 10)\n",
              "&gt;&gt;&gt; y = np.random.rand(10,)\n",
              "&gt;&gt;&gt; w = np.ones_like(y)\n",
              "&gt;&gt;&gt; dataset = dc.data.DiskDataset.from_numpy(X)\n",
              "&gt;&gt;&gt; X, y, w = dataset.X, dataset.y, dataset.w\n",
              "\n",
              "One thing to beware of is that `dataset.X`, `dataset.y`, `dataset.w` are\n",
              "loading data from disk! If you have a large dataset, these operations can be\n",
              "extremely slow. Instead try iterating through the dataset instead.\n",
              "\n",
              "&gt;&gt;&gt; for (xi, yi, wi, idi) in dataset.itersamples():\n",
              "...   pass\n",
              "\n",
              "Attributes\n",
              "----------\n",
              "data_dir: str\n",
              "    Location of directory where this `DiskDataset` is stored to disk\n",
              "metadata_df: pd.DataFrame\n",
              "    Pandas Dataframe holding metadata for this `DiskDataset`\n",
              "legacy_metadata: bool\n",
              "    Whether this `DiskDataset` uses legacy format.\n",
              "\n",
              "Note\n",
              "----\n",
              "`DiskDataset` originally had a simpler metadata format without shape\n",
              "information. Older `DiskDataset` objects had metadata files with columns\n",
              "`(&#x27;ids&#x27;, &#x27;X&#x27;, &#x27;y&#x27;, &#x27;w&#x27;)` and not additional shape columns. `DiskDataset`\n",
              "maintains backwards compatibility with this older metadata format, but we\n",
              "recommend for performance reasons not using legacy metadata for new\n",
              "projects.</pre>\n",
              "      <script>\n",
              "      if (google.colab.kernel.accessAllowed && google.colab.files && google.colab.files.view) {\n",
              "        for (const element of document.querySelectorAll('.filepath')) {\n",
              "          element.style.display = 'block'\n",
              "          element.onclick = (event) => {\n",
              "            event.preventDefault();\n",
              "            event.stopPropagation();\n",
              "            google.colab.files.view(element.textContent, 1110);\n",
              "          };\n",
              "        }\n",
              "      }\n",
              "      for (const element of document.querySelectorAll('.function-repr-contents')) {\n",
              "        element.onclick = (event) => {\n",
              "          event.preventDefault();\n",
              "          event.stopPropagation();\n",
              "          element.classList.toggle('function-repr-contents-collapsed');\n",
              "        };\n",
              "      }\n",
              "      </script>\n",
              "      </div>"
            ]
          },
          "metadata": {},
          "execution_count": 14
        }
      ]
    },
    {
      "cell_type": "code",
      "source": [
        "df.head()"
      ],
      "metadata": {
        "id": "5TxlHYSGIUsJ",
        "colab": {
          "base_uri": "https://localhost:8080/",
          "height": 206
        },
        "outputId": "f9f201af-2335-402d-a751-69ff12e62453"
      },
      "execution_count": null,
      "outputs": [
        {
          "output_type": "execute_result",
          "data": {
            "text/plain": [
              "                       iupac                          smiles  task1   calc\n",
              "0      N,N-dimethylformamide                        CN(C)C=O  -7.81 -6.932\n",
              "1  2-chloro-2-methyl-propane                      CC(C)(C)Cl   1.09  0.826\n",
              "2        1,2-dinitroxyethane  C(CO[N+](=O)[O-])O[N+](=O)[O-]  -5.73 -6.227\n",
              "3           2-propoxyethanol                         CCCOCCO  -6.40 -3.940\n",
              "4          pentyl propanoate                   CCCCCOC(=O)CC  -2.11 -2.176"
            ],
            "text/html": [
              "\n",
              "  <div id=\"df-07c0f58b-47b4-4b82-bdab-ef56fc164013\" class=\"colab-df-container\">\n",
              "    <div>\n",
              "<style scoped>\n",
              "    .dataframe tbody tr th:only-of-type {\n",
              "        vertical-align: middle;\n",
              "    }\n",
              "\n",
              "    .dataframe tbody tr th {\n",
              "        vertical-align: top;\n",
              "    }\n",
              "\n",
              "    .dataframe thead th {\n",
              "        text-align: right;\n",
              "    }\n",
              "</style>\n",
              "<table border=\"1\" class=\"dataframe\">\n",
              "  <thead>\n",
              "    <tr style=\"text-align: right;\">\n",
              "      <th></th>\n",
              "      <th>iupac</th>\n",
              "      <th>smiles</th>\n",
              "      <th>task1</th>\n",
              "      <th>calc</th>\n",
              "    </tr>\n",
              "  </thead>\n",
              "  <tbody>\n",
              "    <tr>\n",
              "      <th>0</th>\n",
              "      <td>N,N-dimethylformamide</td>\n",
              "      <td>CN(C)C=O</td>\n",
              "      <td>-7.81</td>\n",
              "      <td>-6.932</td>\n",
              "    </tr>\n",
              "    <tr>\n",
              "      <th>1</th>\n",
              "      <td>2-chloro-2-methyl-propane</td>\n",
              "      <td>CC(C)(C)Cl</td>\n",
              "      <td>1.09</td>\n",
              "      <td>0.826</td>\n",
              "    </tr>\n",
              "    <tr>\n",
              "      <th>2</th>\n",
              "      <td>1,2-dinitroxyethane</td>\n",
              "      <td>C(CO[N+](=O)[O-])O[N+](=O)[O-]</td>\n",
              "      <td>-5.73</td>\n",
              "      <td>-6.227</td>\n",
              "    </tr>\n",
              "    <tr>\n",
              "      <th>3</th>\n",
              "      <td>2-propoxyethanol</td>\n",
              "      <td>CCCOCCO</td>\n",
              "      <td>-6.40</td>\n",
              "      <td>-3.940</td>\n",
              "    </tr>\n",
              "    <tr>\n",
              "      <th>4</th>\n",
              "      <td>pentyl propanoate</td>\n",
              "      <td>CCCCCOC(=O)CC</td>\n",
              "      <td>-2.11</td>\n",
              "      <td>-2.176</td>\n",
              "    </tr>\n",
              "  </tbody>\n",
              "</table>\n",
              "</div>\n",
              "    <div class=\"colab-df-buttons\">\n",
              "\n",
              "  <div class=\"colab-df-container\">\n",
              "    <button class=\"colab-df-convert\" onclick=\"convertToInteractive('df-07c0f58b-47b4-4b82-bdab-ef56fc164013')\"\n",
              "            title=\"Convert this dataframe to an interactive table.\"\n",
              "            style=\"display:none;\">\n",
              "\n",
              "  <svg xmlns=\"http://www.w3.org/2000/svg\" height=\"24px\" viewBox=\"0 -960 960 960\">\n",
              "    <path d=\"M120-120v-720h720v720H120Zm60-500h600v-160H180v160Zm220 220h160v-160H400v160Zm0 220h160v-160H400v160ZM180-400h160v-160H180v160Zm440 0h160v-160H620v160ZM180-180h160v-160H180v160Zm440 0h160v-160H620v160Z\"/>\n",
              "  </svg>\n",
              "    </button>\n",
              "\n",
              "  <style>\n",
              "    .colab-df-container {\n",
              "      display:flex;\n",
              "      gap: 12px;\n",
              "    }\n",
              "\n",
              "    .colab-df-convert {\n",
              "      background-color: #E8F0FE;\n",
              "      border: none;\n",
              "      border-radius: 50%;\n",
              "      cursor: pointer;\n",
              "      display: none;\n",
              "      fill: #1967D2;\n",
              "      height: 32px;\n",
              "      padding: 0 0 0 0;\n",
              "      width: 32px;\n",
              "    }\n",
              "\n",
              "    .colab-df-convert:hover {\n",
              "      background-color: #E2EBFA;\n",
              "      box-shadow: 0px 1px 2px rgba(60, 64, 67, 0.3), 0px 1px 3px 1px rgba(60, 64, 67, 0.15);\n",
              "      fill: #174EA6;\n",
              "    }\n",
              "\n",
              "    .colab-df-buttons div {\n",
              "      margin-bottom: 4px;\n",
              "    }\n",
              "\n",
              "    [theme=dark] .colab-df-convert {\n",
              "      background-color: #3B4455;\n",
              "      fill: #D2E3FC;\n",
              "    }\n",
              "\n",
              "    [theme=dark] .colab-df-convert:hover {\n",
              "      background-color: #434B5C;\n",
              "      box-shadow: 0px 1px 3px 1px rgba(0, 0, 0, 0.15);\n",
              "      filter: drop-shadow(0px 1px 2px rgba(0, 0, 0, 0.3));\n",
              "      fill: #FFFFFF;\n",
              "    }\n",
              "  </style>\n",
              "\n",
              "    <script>\n",
              "      const buttonEl =\n",
              "        document.querySelector('#df-07c0f58b-47b4-4b82-bdab-ef56fc164013 button.colab-df-convert');\n",
              "      buttonEl.style.display =\n",
              "        google.colab.kernel.accessAllowed ? 'block' : 'none';\n",
              "\n",
              "      async function convertToInteractive(key) {\n",
              "        const element = document.querySelector('#df-07c0f58b-47b4-4b82-bdab-ef56fc164013');\n",
              "        const dataTable =\n",
              "          await google.colab.kernel.invokeFunction('convertToInteractive',\n",
              "                                                    [key], {});\n",
              "        if (!dataTable) return;\n",
              "\n",
              "        const docLinkHtml = 'Like what you see? Visit the ' +\n",
              "          '<a target=\"_blank\" href=https://colab.research.google.com/notebooks/data_table.ipynb>data table notebook</a>'\n",
              "          + ' to learn more about interactive tables.';\n",
              "        element.innerHTML = '';\n",
              "        dataTable['output_type'] = 'display_data';\n",
              "        await google.colab.output.renderOutput(dataTable, element);\n",
              "        const docLink = document.createElement('div');\n",
              "        docLink.innerHTML = docLinkHtml;\n",
              "        element.appendChild(docLink);\n",
              "      }\n",
              "    </script>\n",
              "  </div>\n",
              "\n",
              "\n",
              "<div id=\"df-32b62fd8-31d7-497e-9494-c51d8e1c4ad4\">\n",
              "  <button class=\"colab-df-quickchart\" onclick=\"quickchart('df-32b62fd8-31d7-497e-9494-c51d8e1c4ad4')\"\n",
              "            title=\"Suggest charts\"\n",
              "            style=\"display:none;\">\n",
              "\n",
              "<svg xmlns=\"http://www.w3.org/2000/svg\" height=\"24px\"viewBox=\"0 0 24 24\"\n",
              "     width=\"24px\">\n",
              "    <g>\n",
              "        <path d=\"M19 3H5c-1.1 0-2 .9-2 2v14c0 1.1.9 2 2 2h14c1.1 0 2-.9 2-2V5c0-1.1-.9-2-2-2zM9 17H7v-7h2v7zm4 0h-2V7h2v10zm4 0h-2v-4h2v4z\"/>\n",
              "    </g>\n",
              "</svg>\n",
              "  </button>\n",
              "\n",
              "<style>\n",
              "  .colab-df-quickchart {\n",
              "      --bg-color: #E8F0FE;\n",
              "      --fill-color: #1967D2;\n",
              "      --hover-bg-color: #E2EBFA;\n",
              "      --hover-fill-color: #174EA6;\n",
              "      --disabled-fill-color: #AAA;\n",
              "      --disabled-bg-color: #DDD;\n",
              "  }\n",
              "\n",
              "  [theme=dark] .colab-df-quickchart {\n",
              "      --bg-color: #3B4455;\n",
              "      --fill-color: #D2E3FC;\n",
              "      --hover-bg-color: #434B5C;\n",
              "      --hover-fill-color: #FFFFFF;\n",
              "      --disabled-bg-color: #3B4455;\n",
              "      --disabled-fill-color: #666;\n",
              "  }\n",
              "\n",
              "  .colab-df-quickchart {\n",
              "    background-color: var(--bg-color);\n",
              "    border: none;\n",
              "    border-radius: 50%;\n",
              "    cursor: pointer;\n",
              "    display: none;\n",
              "    fill: var(--fill-color);\n",
              "    height: 32px;\n",
              "    padding: 0;\n",
              "    width: 32px;\n",
              "  }\n",
              "\n",
              "  .colab-df-quickchart:hover {\n",
              "    background-color: var(--hover-bg-color);\n",
              "    box-shadow: 0 1px 2px rgba(60, 64, 67, 0.3), 0 1px 3px 1px rgba(60, 64, 67, 0.15);\n",
              "    fill: var(--button-hover-fill-color);\n",
              "  }\n",
              "\n",
              "  .colab-df-quickchart-complete:disabled,\n",
              "  .colab-df-quickchart-complete:disabled:hover {\n",
              "    background-color: var(--disabled-bg-color);\n",
              "    fill: var(--disabled-fill-color);\n",
              "    box-shadow: none;\n",
              "  }\n",
              "\n",
              "  .colab-df-spinner {\n",
              "    border: 2px solid var(--fill-color);\n",
              "    border-color: transparent;\n",
              "    border-bottom-color: var(--fill-color);\n",
              "    animation:\n",
              "      spin 1s steps(1) infinite;\n",
              "  }\n",
              "\n",
              "  @keyframes spin {\n",
              "    0% {\n",
              "      border-color: transparent;\n",
              "      border-bottom-color: var(--fill-color);\n",
              "      border-left-color: var(--fill-color);\n",
              "    }\n",
              "    20% {\n",
              "      border-color: transparent;\n",
              "      border-left-color: var(--fill-color);\n",
              "      border-top-color: var(--fill-color);\n",
              "    }\n",
              "    30% {\n",
              "      border-color: transparent;\n",
              "      border-left-color: var(--fill-color);\n",
              "      border-top-color: var(--fill-color);\n",
              "      border-right-color: var(--fill-color);\n",
              "    }\n",
              "    40% {\n",
              "      border-color: transparent;\n",
              "      border-right-color: var(--fill-color);\n",
              "      border-top-color: var(--fill-color);\n",
              "    }\n",
              "    60% {\n",
              "      border-color: transparent;\n",
              "      border-right-color: var(--fill-color);\n",
              "    }\n",
              "    80% {\n",
              "      border-color: transparent;\n",
              "      border-right-color: var(--fill-color);\n",
              "      border-bottom-color: var(--fill-color);\n",
              "    }\n",
              "    90% {\n",
              "      border-color: transparent;\n",
              "      border-bottom-color: var(--fill-color);\n",
              "    }\n",
              "  }\n",
              "</style>\n",
              "\n",
              "  <script>\n",
              "    async function quickchart(key) {\n",
              "      const quickchartButtonEl =\n",
              "        document.querySelector('#' + key + ' button');\n",
              "      quickchartButtonEl.disabled = true;  // To prevent multiple clicks.\n",
              "      quickchartButtonEl.classList.add('colab-df-spinner');\n",
              "      try {\n",
              "        const charts = await google.colab.kernel.invokeFunction(\n",
              "            'suggestCharts', [key], {});\n",
              "      } catch (error) {\n",
              "        console.error('Error during call to suggestCharts:', error);\n",
              "      }\n",
              "      quickchartButtonEl.classList.remove('colab-df-spinner');\n",
              "      quickchartButtonEl.classList.add('colab-df-quickchart-complete');\n",
              "    }\n",
              "    (() => {\n",
              "      let quickchartButtonEl =\n",
              "        document.querySelector('#df-32b62fd8-31d7-497e-9494-c51d8e1c4ad4 button');\n",
              "      quickchartButtonEl.style.display =\n",
              "        google.colab.kernel.accessAllowed ? 'block' : 'none';\n",
              "    })();\n",
              "  </script>\n",
              "</div>\n",
              "\n",
              "    </div>\n",
              "  </div>\n"
            ],
            "application/vnd.google.colaboratory.intrinsic+json": {
              "type": "dataframe",
              "variable_name": "df",
              "summary": "{\n  \"name\": \"df\",\n  \"rows\": 642,\n  \"fields\": [\n    {\n      \"column\": \"iupac\",\n      \"properties\": {\n        \"dtype\": \"string\",\n        \"num_unique_values\": 642,\n        \"samples\": [\n          \"piperazine\",\n          \"terbutryn\",\n          \"1,2,3-trichlorobenzene\"\n        ],\n        \"semantic_type\": \"\",\n        \"description\": \"\"\n      }\n    },\n    {\n      \"column\": \"smiles\",\n      \"properties\": {\n        \"dtype\": \"string\",\n        \"num_unique_values\": 642,\n        \"samples\": [\n          \"C1CNCCN1\",\n          \"CCNc1nc(nc(n1)SC)NC(C)(C)C\",\n          \"c1cc(c(c(c1)Cl)Cl)Cl\"\n        ],\n        \"semantic_type\": \"\",\n        \"description\": \"\"\n      }\n    },\n    {\n      \"column\": \"task1\",\n      \"properties\": {\n        \"dtype\": \"number\",\n        \"std\": 3.847820117108812,\n        \"min\": -25.47,\n        \"max\": 3.43,\n        \"num_unique_values\": 486,\n        \"samples\": [\n          0.52,\n          2.48,\n          -0.77\n        ],\n        \"semantic_type\": \"\",\n        \"description\": \"\"\n      }\n    },\n    {\n      \"column\": \"calc\",\n      \"properties\": {\n        \"dtype\": \"number\",\n        \"std\": 4.186300812370097,\n        \"min\": -21.762,\n        \"max\": 3.335,\n        \"num_unique_values\": 619,\n        \"samples\": [\n          -0.004,\n          2.995,\n          -3.148\n        ],\n        \"semantic_type\": \"\",\n        \"description\": \"\"\n      }\n    }\n  ]\n}"
            }
          },
          "metadata": {},
          "execution_count": 15
        }
      ]
    },
    {
      "cell_type": "code",
      "source": [
        "dataset.ids[:10]\n"
      ],
      "metadata": {
        "id": "IWrlGVp8IqUP",
        "colab": {
          "base_uri": "https://localhost:8080/"
        },
        "outputId": "82437f06-0508-4325-9a1a-4af2f24483e0"
      },
      "execution_count": null,
      "outputs": [
        {
          "output_type": "execute_result",
          "data": {
            "text/plain": [
              "array(['CN(C)C=O', 'CC(C)(C)Cl', 'C(CO[N+](=O)[O-])O[N+](=O)[O-]',\n",
              "       'CCCOCCO', 'CCCCCOC(=O)CC', 'COCC(OC)(OC)OC',\n",
              "       'CC1=CC(=O)CC(C1)(C)C', 'CCCc1ccc(c(c1)OC)O', 'CC(=O)C1CCCCC1',\n",
              "       'C'], dtype=object)"
            ]
          },
          "metadata": {},
          "execution_count": 16
        }
      ]
    },
    {
      "cell_type": "code",
      "source": [
        "dataset.get_shape()"
      ],
      "metadata": {
        "id": "fkjX1qC_JFlG",
        "colab": {
          "base_uri": "https://localhost:8080/"
        },
        "outputId": "fb800aff-b6d8-4f3f-a344-c23146afaa6f"
      },
      "execution_count": null,
      "outputs": [
        {
          "output_type": "execute_result",
          "data": {
            "text/plain": [
              "((642,), (642, 1), (642, 1), (642,))"
            ]
          },
          "metadata": {},
          "execution_count": 17
        }
      ]
    },
    {
      "cell_type": "code",
      "source": [
        "# for X, y, w, id in dataset.itersamples():\n",
        "#   print(y, id)"
      ],
      "metadata": {
        "id": "YmAmdiWmHveq"
      },
      "execution_count": null,
      "outputs": []
    },
    {
      "cell_type": "code",
      "source": [
        "dataset.X[0].get_atom_features()\n",
        "# [0].get_atom_features()"
      ],
      "metadata": {
        "id": "XtU26rlKJ0DU",
        "colab": {
          "base_uri": "https://localhost:8080/"
        },
        "outputId": "4d730320-0a3e-44ab-9dca-55cabbaba5b5"
      },
      "execution_count": null,
      "outputs": [
        {
          "output_type": "execute_result",
          "data": {
            "text/plain": [
              "array([[1., 0., 0., 0., 0., 0., 0., 0., 0., 0., 0., 0., 0., 0., 0., 0.,\n",
              "        0., 0., 0., 0., 0., 0., 0., 0., 0., 0., 0., 0., 0., 0., 0., 0.,\n",
              "        0., 0., 0., 0., 0., 0., 0., 0., 0., 0., 0., 0., 0., 1., 0., 0.,\n",
              "        0., 0., 0., 0., 0., 0., 0., 0., 0., 0., 1., 0., 0., 0., 0., 0.,\n",
              "        0., 0., 1., 0., 0., 0., 0., 0., 0., 1., 0.],\n",
              "       [0., 0., 1., 0., 0., 0., 0., 0., 0., 0., 0., 0., 0., 0., 0., 0.,\n",
              "        0., 0., 0., 0., 0., 0., 0., 0., 0., 0., 0., 0., 0., 0., 0., 0.,\n",
              "        0., 0., 0., 0., 0., 0., 0., 0., 0., 0., 0., 0., 0., 1., 0., 0.,\n",
              "        0., 0., 0., 0., 0., 0., 0., 1., 0., 0., 0., 0., 0., 0., 0., 0.,\n",
              "        0., 1., 0., 0., 0., 0., 1., 0., 0., 0., 0.],\n",
              "       [1., 0., 0., 0., 0., 0., 0., 0., 0., 0., 0., 0., 0., 0., 0., 0.,\n",
              "        0., 0., 0., 0., 0., 0., 0., 0., 0., 0., 0., 0., 0., 0., 0., 0.,\n",
              "        0., 0., 0., 0., 0., 0., 0., 0., 0., 0., 0., 0., 0., 1., 0., 0.,\n",
              "        0., 0., 0., 0., 0., 0., 0., 0., 0., 0., 1., 0., 0., 0., 0., 0.,\n",
              "        0., 0., 1., 0., 0., 0., 0., 0., 0., 1., 0.],\n",
              "       [1., 0., 0., 0., 0., 0., 0., 0., 0., 0., 0., 0., 0., 0., 0., 0.,\n",
              "        0., 0., 0., 0., 0., 0., 0., 0., 0., 0., 0., 0., 0., 0., 0., 0.,\n",
              "        0., 0., 0., 0., 0., 0., 0., 0., 0., 0., 0., 0., 0., 0., 1., 0.,\n",
              "        0., 0., 0., 0., 0., 0., 0., 0., 1., 0., 0., 0., 0., 0., 0., 0.,\n",
              "        0., 1., 0., 0., 0., 0., 0., 1., 0., 0., 0.],\n",
              "       [0., 1., 0., 0., 0., 0., 0., 0., 0., 0., 0., 0., 0., 0., 0., 0.,\n",
              "        0., 0., 0., 0., 0., 0., 0., 0., 0., 0., 0., 0., 0., 0., 0., 0.,\n",
              "        0., 0., 0., 0., 0., 0., 0., 0., 0., 0., 0., 0., 0., 0., 0., 1.,\n",
              "        0., 0., 0., 0., 0., 0., 0., 1., 0., 0., 0., 0., 0., 0., 0., 0.,\n",
              "        0., 1., 0., 0., 0., 0., 1., 0., 0., 0., 0.]])"
            ]
          },
          "metadata": {},
          "execution_count": 25
        }
      ]
    },
    {
      "cell_type": "code",
      "source": [
        "# Split by index numbers\n",
        "splitter = dc.splits.SpecifiedSplitter(test_indices=range(513, 642))\n",
        "train_dataset, test_dataset = splitter.train_test_split(dataset)"
      ],
      "metadata": {
        "id": "QwLHNB8zhn3u"
      },
      "execution_count": null,
      "outputs": []
    },
    {
      "cell_type": "code",
      "source": [
        "len(test_dataset)"
      ],
      "metadata": {
        "colab": {
          "base_uri": "https://localhost:8080/"
        },
        "id": "SsFAVTqDWzjR",
        "outputId": "0bd86a75-5613-48ad-c8da-b81e21b0e404"
      },
      "execution_count": null,
      "outputs": [
        {
          "output_type": "execute_result",
          "data": {
            "text/plain": [
              "129"
            ]
          },
          "metadata": {},
          "execution_count": 28
        }
      ]
    },
    {
      "cell_type": "code",
      "source": [
        "model = dc.models.GraphConvModel(n_tasks=1, mode='regression', dropout=0.2, batch_normalize = False)"
      ],
      "metadata": {
        "id": "_XNj37fz4XMp"
      },
      "execution_count": null,
      "outputs": []
    },
    {
      "cell_type": "code",
      "source": [
        "model.fit(train_dataset, nb_epoch=100)"
      ],
      "metadata": {
        "id": "rVj6QfF2ki4k",
        "colab": {
          "base_uri": "https://localhost:8080/"
        },
        "outputId": "b87f0e3f-6c29-404b-c32e-49680926b9ac"
      },
      "execution_count": null,
      "outputs": [
        {
          "output_type": "execute_result",
          "data": {
            "text/plain": [
              "0.5245515441894532"
            ]
          },
          "metadata": {},
          "execution_count": 30
        }
      ]
    },
    {
      "cell_type": "code",
      "source": [
        "y_pred_test = model.predict(test_dataset)\n",
        "y_pred_train = model.predict(train_dataset)"
      ],
      "metadata": {
        "id": "u5DZPr7mYTm_"
      },
      "execution_count": null,
      "outputs": []
    },
    {
      "cell_type": "code",
      "source": [
        "# test_dataset.y"
      ],
      "metadata": {
        "id": "wYHTjBr1YHkO"
      },
      "execution_count": null,
      "outputs": []
    },
    {
      "cell_type": "code",
      "source": [
        "from sklearn.metrics import r2_score\n",
        "print(\"Train r2 score: \", r2_score(y_pred_train, train_dataset.y))\n",
        "print(\"Test r2 score: \", r2_score(y_pred_test, test_dataset.y))"
      ],
      "metadata": {
        "id": "LfrfHxzJZrcz",
        "colab": {
          "base_uri": "https://localhost:8080/"
        },
        "outputId": "b8738dfd-ae37-458b-ccea-bf02c036a519"
      },
      "execution_count": null,
      "outputs": [
        {
          "output_type": "stream",
          "name": "stdout",
          "text": [
            "Train r2 score:  0.9458315273288176\n",
            "Test r2 score:  0.8664042073137397\n"
          ]
        }
      ]
    },
    {
      "cell_type": "code",
      "source": [
        "metric = dc.metrics.Metric(dc.metrics.pearson_r2_score)\n",
        "print(\"Training set score:\", model.evaluate(train_dataset, [metric]))\n",
        "print(\"Test set score:\", model.evaluate(test_dataset, [metric]))"
      ],
      "metadata": {
        "id": "XiuYQLqN4ft4",
        "colab": {
          "base_uri": "https://localhost:8080/"
        },
        "outputId": "cae4cad1-7143-452a-d1f9-580b4e0344f3"
      },
      "execution_count": null,
      "outputs": [
        {
          "output_type": "stream",
          "name": "stdout",
          "text": [
            "Training set score: {'pearson_r2_score': 0.9770957483929081}\n",
            "Test set score: {'pearson_r2_score': 0.9444117159299883}\n"
          ]
        }
      ]
    },
    {
      "cell_type": "markdown",
      "source": [
        "## **Random Train Test Split**"
      ],
      "metadata": {
        "id": "yuINjdLVIjTY"
      }
    },
    {
      "cell_type": "code",
      "source": [
        "splitter = dc.splits.RandomSplitter()\n",
        "train_dataset, test_dataset = splitter.train_test_split(\n",
        "  dataset=dataset, frac_train=.80, seed=9\n",
        ")\n",
        "len(train_dataset)"
      ],
      "metadata": {
        "id": "BQ9SP_bnI16J",
        "colab": {
          "base_uri": "https://localhost:8080/"
        },
        "outputId": "85a2180a-100c-4340-e37d-70634e3852d7"
      },
      "execution_count": null,
      "outputs": [
        {
          "output_type": "execute_result",
          "data": {
            "text/plain": [
              "513"
            ]
          },
          "metadata": {},
          "execution_count": 18
        }
      ]
    },
    {
      "cell_type": "code",
      "source": [
        "model = dc.models.GraphConvModel(n_tasks=1, mode='regression', dropout=0.2)"
      ],
      "metadata": {
        "id": "kCbmoEWPJLQS"
      },
      "execution_count": null,
      "outputs": []
    },
    {
      "cell_type": "code",
      "source": [
        "model.fit(train_dataset, nb_epoch=100)"
      ],
      "metadata": {
        "id": "QQmGJfItJkVJ",
        "colab": {
          "base_uri": "https://localhost:8080/"
        },
        "outputId": "1138d9a7-7718-495e-8e96-7d7511106ba6"
      },
      "execution_count": null,
      "outputs": [
        {
          "output_type": "execute_result",
          "data": {
            "text/plain": [
              "1.0316976165771485"
            ]
          },
          "metadata": {},
          "execution_count": 20
        }
      ]
    },
    {
      "cell_type": "code",
      "source": [
        "y_pred_test = model.predict(test_dataset)\n",
        "y_pred_train = model.predict(train_dataset)"
      ],
      "metadata": {
        "id": "C0iRv2RlkuWH"
      },
      "execution_count": null,
      "outputs": []
    },
    {
      "cell_type": "code",
      "source": [
        "from sklearn.metrics import r2_score\n",
        "print(\"Train r2 score: \", r2_score(y_pred_train, train_dataset.y))\n",
        "print(\"Test r2 score: \", r2_score(y_pred_test, test_dataset.y))"
      ],
      "metadata": {
        "id": "JUeFREgAhbMP",
        "colab": {
          "base_uri": "https://localhost:8080/"
        },
        "outputId": "c886e3a2-e42a-4c02-f8f7-cdac87380c4e"
      },
      "execution_count": null,
      "outputs": [
        {
          "output_type": "stream",
          "name": "stdout",
          "text": [
            "Train r2 score:  0.7466138555458752\n",
            "Test r2 score:  0.6373747814798145\n"
          ]
        }
      ]
    },
    {
      "cell_type": "code",
      "source": [
        "metric = dc.metrics.Metric(dc.metrics.pearson_r2_score)\n",
        "print(\"Training set score:\", model.evaluate(train_dataset, [metric]))\n",
        "print(\"Test set score:\", model.evaluate(test_dataset, [metric]))"
      ],
      "metadata": {
        "id": "t6fpH1csJqVS",
        "colab": {
          "base_uri": "https://localhost:8080/"
        },
        "outputId": "68eac42e-95a3-4112-89ec-006bae3bc947"
      },
      "execution_count": null,
      "outputs": [
        {
          "output_type": "stream",
          "name": "stdout",
          "text": [
            "Training set score: {'pearson_r2_score': 0.9505668177397952}\n",
            "Test set score: {'pearson_r2_score': 0.8801111839870016}\n"
          ]
        }
      ]
    },
    {
      "cell_type": "markdown",
      "source": [
        "## **Scaffold Split**"
      ],
      "metadata": {
        "id": "15lTkzutRbhS"
      }
    },
    {
      "cell_type": "code",
      "source": [
        "scaffoldsplitter = dc.splits.ScaffoldSplitter()\n",
        "train_dataset,test_dataset = scaffoldsplitter.train_test_split(dataset, frac_train=.80)"
      ],
      "metadata": {
        "id": "ZInmCqTpRfTx"
      },
      "execution_count": null,
      "outputs": []
    },
    {
      "cell_type": "code",
      "source": [
        "model.fit(train_dataset, nb_epoch=100)"
      ],
      "metadata": {
        "id": "w6xkS1YMR9aK",
        "colab": {
          "base_uri": "https://localhost:8080/"
        },
        "outputId": "8ad52c1e-ec9d-42ef-d336-2135663f745e"
      },
      "execution_count": null,
      "outputs": [
        {
          "output_type": "execute_result",
          "data": {
            "text/plain": [
              "0.5620740127563476"
            ]
          },
          "metadata": {},
          "execution_count": 25
        }
      ]
    },
    {
      "cell_type": "code",
      "source": [
        "y_pred_test = model.predict(test_dataset)\n",
        "y_pred_train = model.predict(train_dataset)\n",
        "print(\"Train r2 score: \", r2_score(y_pred_train, train_dataset.y))\n",
        "print(\"Test r2 score: \", r2_score(y_pred_test, test_dataset.y))"
      ],
      "metadata": {
        "id": "b4s_URiZiHJt",
        "colab": {
          "base_uri": "https://localhost:8080/"
        },
        "outputId": "00ec0949-fb33-4641-8cf4-8f36a4b92177"
      },
      "execution_count": null,
      "outputs": [
        {
          "output_type": "stream",
          "name": "stdout",
          "text": [
            "Train r2 score:  0.786163381530879\n",
            "Test r2 score:  0.6800920908583967\n"
          ]
        }
      ]
    },
    {
      "cell_type": "code",
      "source": [
        "metric = dc.metrics.Metric(dc.metrics.pearson_r2_score)\n",
        "print(\"Training set score:\", model.evaluate(train_dataset, [metric]))\n",
        "print(\"Test set score:\", model.evaluate(test_dataset, [metric]))"
      ],
      "metadata": {
        "id": "R201EsyhSKAt",
        "colab": {
          "base_uri": "https://localhost:8080/"
        },
        "outputId": "fbc0cd2c-c218-464c-d2db-42b52d21eb46"
      },
      "execution_count": null,
      "outputs": [
        {
          "output_type": "stream",
          "name": "stdout",
          "text": [
            "Training set score: {'pearson_r2_score': 0.962124982686598}\n",
            "Test set score: {'pearson_r2_score': 0.9153761781783717}\n"
          ]
        }
      ]
    },
    {
      "cell_type": "markdown",
      "source": [
        "## **Molecular Weight Splitter**"
      ],
      "metadata": {
        "id": "X8v0m6PbTcHS"
      }
    },
    {
      "cell_type": "code",
      "source": [
        "molecularweightsplitter = dc.splits.MolecularWeightSplitter()\n",
        "train_dataset, test_dataset = molecularweightsplitter.train_test_split(dataset,frac_train=.80)"
      ],
      "metadata": {
        "id": "0ue4O54hTgXS"
      },
      "execution_count": null,
      "outputs": []
    },
    {
      "cell_type": "code",
      "source": [
        "model.fit(train_dataset, nb_epoch=100)"
      ],
      "metadata": {
        "id": "k_On9j91Tisi",
        "colab": {
          "base_uri": "https://localhost:8080/"
        },
        "outputId": "a6308212-9689-4da9-dac7-1e196ac7c91a"
      },
      "execution_count": null,
      "outputs": [
        {
          "output_type": "execute_result",
          "data": {
            "text/plain": [
              "0.38336532592773437"
            ]
          },
          "metadata": {},
          "execution_count": 29
        }
      ]
    },
    {
      "cell_type": "code",
      "source": [
        "y_pred_test = model.predict(test_dataset)\n",
        "y_pred_train = model.predict(train_dataset)\n",
        "\n",
        "print(\"Train r2 score: \", r2_score(y_pred_train, train_dataset.y))\n",
        "print(\"Test r2 score: \", r2_score(y_pred_test, test_dataset.y))"
      ],
      "metadata": {
        "id": "l80SnGanipV0",
        "colab": {
          "base_uri": "https://localhost:8080/"
        },
        "outputId": "e6e05a95-587a-438f-ddab-af44c7defead"
      },
      "execution_count": null,
      "outputs": [
        {
          "output_type": "stream",
          "name": "stdout",
          "text": [
            "Train r2 score:  0.8336765666983809\n",
            "Test r2 score:  0.7391005731252127\n"
          ]
        }
      ]
    },
    {
      "cell_type": "code",
      "source": [
        "metric = dc.metrics.Metric(dc.metrics.pearson_r2_score)\n",
        "print(\"Training set score:\", model.evaluate(train_dataset, [metric]))\n",
        "print(\"Test set score:\", model.evaluate(test_dataset, [metric]))"
      ],
      "metadata": {
        "id": "8ggTu4VjTl6J",
        "colab": {
          "base_uri": "https://localhost:8080/"
        },
        "outputId": "517d89af-d133-45bc-9ced-0fa620083ee2"
      },
      "execution_count": null,
      "outputs": [
        {
          "output_type": "stream",
          "name": "stdout",
          "text": [
            "Training set score: {'pearson_r2_score': 0.9748803185962122}\n",
            "Test set score: {'pearson_r2_score': 0.893672553341316}\n"
          ]
        }
      ]
    },
    {
      "cell_type": "markdown",
      "source": [
        "## **MinMaxSplitter**"
      ],
      "metadata": {
        "id": "1g6jrbxLVqt8"
      }
    },
    {
      "cell_type": "code",
      "source": [
        "maxminsplitter = dc.splits.MaxMinSplitter()\n",
        "train_dataset, test_dataset = maxminsplitter.train_test_split(dataset,frac_train=.80)"
      ],
      "metadata": {
        "id": "-qfp-MLKVueV"
      },
      "execution_count": null,
      "outputs": []
    },
    {
      "cell_type": "code",
      "source": [
        "model.fit(train_dataset, nb_epoch=200)"
      ],
      "metadata": {
        "id": "Z-EtitijV7Cq",
        "colab": {
          "base_uri": "https://localhost:8080/"
        },
        "outputId": "d9ad224d-bc70-4b88-c950-282b6804f217"
      },
      "execution_count": null,
      "outputs": [
        {
          "output_type": "execute_result",
          "data": {
            "text/plain": [
              "0.2550699424743652"
            ]
          },
          "metadata": {},
          "execution_count": 33
        }
      ]
    },
    {
      "cell_type": "code",
      "source": [
        "y_pred_test = model.predict(test_dataset)\n",
        "y_pred_train = model.predict(train_dataset)\n",
        "\n",
        "print(\"Train r2 score: \", r2_score(y_pred_train, train_dataset.y))\n",
        "print(\"Test r2 score: \", r2_score(y_pred_test, test_dataset.y))"
      ],
      "metadata": {
        "id": "fXf0aKdBizjk",
        "colab": {
          "base_uri": "https://localhost:8080/"
        },
        "outputId": "de01b9c0-f8c4-414d-efa2-7df4d72748f2"
      },
      "execution_count": null,
      "outputs": [
        {
          "output_type": "stream",
          "name": "stdout",
          "text": [
            "Train r2 score:  0.8578755095232764\n",
            "Test r2 score:  0.8316508919848555\n"
          ]
        }
      ]
    },
    {
      "cell_type": "code",
      "source": [
        "metric = dc.metrics.Metric(dc.metrics.pearson_r2_score)\n",
        "print(\"Training set score:\", model.evaluate(train_dataset, [metric]))\n",
        "print(\"Test set score:\", model.evaluate(test_dataset, [metric]))"
      ],
      "metadata": {
        "id": "Zmx5KkINV9RD",
        "colab": {
          "base_uri": "https://localhost:8080/"
        },
        "outputId": "5073adba-75b1-4c1b-cb64-2014f1662e87"
      },
      "execution_count": null,
      "outputs": [
        {
          "output_type": "stream",
          "name": "stdout",
          "text": [
            "Training set score: {'pearson_r2_score': 0.9816210254572666}\n",
            "Test set score: {'pearson_r2_score': 0.9208069274052878}\n"
          ]
        }
      ]
    },
    {
      "cell_type": "markdown",
      "source": [
        "## **ButinaSplit**"
      ],
      "metadata": {
        "id": "DATza0h_WGnq"
      }
    },
    {
      "cell_type": "code",
      "source": [
        "butinasplitter = dc.splits.ButinaSplitter()\n",
        "train_dataset, test_dataset = butinasplitter.train_test_split(dataset, frac_train=.80, seed=2)"
      ],
      "metadata": {
        "id": "ftveuMZbXE1R"
      },
      "execution_count": null,
      "outputs": []
    },
    {
      "cell_type": "code",
      "source": [
        "model.fit(train_dataset, nb_epoch=100)"
      ],
      "metadata": {
        "id": "Pxy7LeszXF_5",
        "colab": {
          "base_uri": "https://localhost:8080/"
        },
        "outputId": "e04b62c6-28a9-4819-a620-6f92876f8162"
      },
      "execution_count": null,
      "outputs": [
        {
          "output_type": "execute_result",
          "data": {
            "text/plain": [
              "0.2434164047241211"
            ]
          },
          "metadata": {},
          "execution_count": 37
        }
      ]
    },
    {
      "cell_type": "code",
      "source": [
        "y_pred_test = model.predict(test_dataset)\n",
        "y_pred_train = model.predict(train_dataset)\n",
        "\n",
        "print(\"Train r2 score: \", r2_score(y_pred_train, train_dataset.y))\n",
        "print(\"Test r2 score: \", r2_score(y_pred_test, test_dataset.y))"
      ],
      "metadata": {
        "id": "d4Q4F2K1jDBD",
        "colab": {
          "base_uri": "https://localhost:8080/"
        },
        "outputId": "35adcd3c-eddc-4fb7-f21b-429d61e435af"
      },
      "execution_count": null,
      "outputs": [
        {
          "output_type": "stream",
          "name": "stdout",
          "text": [
            "Train r2 score:  0.8694202966632\n",
            "Test r2 score:  0.8884590865693047\n"
          ]
        }
      ]
    },
    {
      "cell_type": "code",
      "source": [
        "metric = dc.metrics.Metric(dc.metrics.pearson_r2_score)\n",
        "print(\"Training set score:\", model.evaluate(train_dataset, [metric]))\n",
        "print(\"Test set score:\", model.evaluate(test_dataset, [metric]))"
      ],
      "metadata": {
        "id": "6KFqNQL1XHtM",
        "colab": {
          "base_uri": "https://localhost:8080/"
        },
        "outputId": "82a7004c-babb-47b6-eea0-8e0c7dc87a5e"
      },
      "execution_count": null,
      "outputs": [
        {
          "output_type": "stream",
          "name": "stdout",
          "text": [
            "Training set score: {'pearson_r2_score': 0.9827353366034832}\n",
            "Test set score: {'pearson_r2_score': 0.9435764174922706}\n"
          ]
        }
      ]
    },
    {
      "cell_type": "markdown",
      "source": [
        "## **FingerprintSplit**"
      ],
      "metadata": {
        "id": "pWo2WGQsXXMK"
      }
    },
    {
      "cell_type": "code",
      "source": [
        "fpsplitter = dc.splits.FingerprintSplitter()\n",
        "train_dataset, test_dataset = fpsplitter.train_test_split(dataset, frac_train=.80, seed=2)"
      ],
      "metadata": {
        "id": "EdJ3nhrtSMzm"
      },
      "execution_count": null,
      "outputs": []
    },
    {
      "cell_type": "code",
      "source": [
        "model.fit(train_dataset, nb_epoch=100)"
      ],
      "metadata": {
        "colab": {
          "base_uri": "https://localhost:8080/"
        },
        "id": "6Ry5YWKM7mwm",
        "outputId": "293a1022-1a91-4e4f-d2da-d43adca341f2"
      },
      "execution_count": null,
      "outputs": [
        {
          "output_type": "execute_result",
          "data": {
            "text/plain": [
              "0.2582437515258789"
            ]
          },
          "metadata": {},
          "execution_count": 43
        }
      ]
    },
    {
      "cell_type": "code",
      "source": [
        "y_pred_test = model.predict(test_dataset)\n",
        "y_pred_train = model.predict(train_dataset)\n",
        "\n",
        "print(\"Train r2 score: \", r2_score(y_pred_train, train_dataset.y))\n",
        "print(\"Test r2 score: \", r2_score(y_pred_test, test_dataset.y))"
      ],
      "metadata": {
        "id": "Bu2Y2F1SjhU6",
        "colab": {
          "base_uri": "https://localhost:8080/"
        },
        "outputId": "f7c7d73e-d8af-4945-82b5-a74065f8a183"
      },
      "execution_count": null,
      "outputs": [
        {
          "output_type": "stream",
          "name": "stdout",
          "text": [
            "Train r2 score:  0.896628491126867\n",
            "Test r2 score:  0.7313443720337369\n"
          ]
        }
      ]
    },
    {
      "cell_type": "code",
      "source": [
        "metric = dc.metrics.Metric(dc.metrics.pearson_r2_score)\n",
        "print(\"Training set score:\", model.evaluate(train_dataset, [metric]))\n",
        "print(\"Test set score:\", model.evaluate(test_dataset, [metric]))"
      ],
      "metadata": {
        "id": "vcSZ642Ql7or",
        "colab": {
          "base_uri": "https://localhost:8080/"
        },
        "outputId": "7246f26e-bcce-4b49-a606-00221d9783e7"
      },
      "execution_count": null,
      "outputs": [
        {
          "output_type": "stream",
          "name": "stdout",
          "text": [
            "Training set score: {'pearson_r2_score': 0.9843664698263709}\n",
            "Test set score: {'pearson_r2_score': 0.9426476342803143}\n"
          ]
        }
      ]
    },
    {
      "cell_type": "markdown",
      "source": [
        "## **Other Graph Models**"
      ],
      "metadata": {
        "id": "Luk5BDV6p1Q6"
      }
    },
    {
      "cell_type": "markdown",
      "source": [
        "**GAT Model**"
      ],
      "metadata": {
        "id": "qfdt0-tjT6Fc"
      }
    },
    {
      "cell_type": "code",
      "source": [
        "df.drop(labels = [9,113,131], axis=0, inplace=True)\n",
        "df = df.reset_index(drop=True)"
      ],
      "metadata": {
        "id": "zRZVXBEUG0yA"
      },
      "execution_count": null,
      "outputs": []
    },
    {
      "cell_type": "code",
      "source": [
        "with dc.utils.UniversalNamedTemporaryFile(mode='w') as tmpfile:\n",
        "    df.to_csv(tmpfile.name)\n",
        "    loader = dc.data.CSVLoader([\"task1\"], feature_field=\"smiles\",\n",
        "                             featurizer=dc.feat.MolGraphConvFeaturizer())\n",
        "    dataset = loader.create_dataset(tmpfile.name)\n",
        "len(dataset)"
      ],
      "metadata": {
        "id": "Pb3FnXqmQPw7",
        "colab": {
          "base_uri": "https://localhost:8080/"
        },
        "outputId": "fed3ee37-ce0e-477e-fd75-b8df4516001b"
      },
      "execution_count": null,
      "outputs": [
        {
          "output_type": "execute_result",
          "data": {
            "text/plain": [
              "637"
            ]
          },
          "metadata": {},
          "execution_count": 61
        }
      ]
    },
    {
      "cell_type": "code",
      "source": [
        "df.iloc[131,:]"
      ],
      "metadata": {
        "colab": {
          "base_uri": "https://localhost:8080/",
          "height": 209
        },
        "id": "-qIAbbUC8jvs",
        "outputId": "eb24a544-6127-4a70-8d68-10831c8c88d2"
      },
      "execution_count": null,
      "outputs": [
        {
          "output_type": "execute_result",
          "data": {
            "text/plain": [
              "iupac     hydrogen sulfide\n",
              "smiles                   S\n",
              "task1                 -0.7\n",
              "calc                -1.135\n",
              "Name: 131, dtype: object"
            ],
            "text/html": [
              "<div>\n",
              "<style scoped>\n",
              "    .dataframe tbody tr th:only-of-type {\n",
              "        vertical-align: middle;\n",
              "    }\n",
              "\n",
              "    .dataframe tbody tr th {\n",
              "        vertical-align: top;\n",
              "    }\n",
              "\n",
              "    .dataframe thead th {\n",
              "        text-align: right;\n",
              "    }\n",
              "</style>\n",
              "<table border=\"1\" class=\"dataframe\">\n",
              "  <thead>\n",
              "    <tr style=\"text-align: right;\">\n",
              "      <th></th>\n",
              "      <th>131</th>\n",
              "    </tr>\n",
              "  </thead>\n",
              "  <tbody>\n",
              "    <tr>\n",
              "      <th>iupac</th>\n",
              "      <td>hydrogen sulfide</td>\n",
              "    </tr>\n",
              "    <tr>\n",
              "      <th>smiles</th>\n",
              "      <td>S</td>\n",
              "    </tr>\n",
              "    <tr>\n",
              "      <th>task1</th>\n",
              "      <td>-0.7</td>\n",
              "    </tr>\n",
              "    <tr>\n",
              "      <th>calc</th>\n",
              "      <td>-1.135</td>\n",
              "    </tr>\n",
              "  </tbody>\n",
              "</table>\n",
              "</div><br><label><b>dtype:</b> object</label>"
            ]
          },
          "metadata": {},
          "execution_count": 49
        }
      ]
    },
    {
      "cell_type": "code",
      "source": [
        "# fingerprintsplitter = dc.splits.FingerprintSplitter()\n",
        "# train_dataset, test_dataset = fingerprintsplitter.train_test_split(dataset,frac_train=.80, seed=6)\n",
        "\n",
        "splitter = dc.splits.RandomSplitter()\n",
        "train_dataset, test_dataset = splitter.train_test_split(dataset=dataset, frac_train=.80, seed=9)\n",
        "len(train_dataset)"
      ],
      "metadata": {
        "id": "RcIJaparSrcF",
        "colab": {
          "base_uri": "https://localhost:8080/"
        },
        "outputId": "66fae071-e5a0-4b91-8845-5c84dbd8b5b3"
      },
      "execution_count": null,
      "outputs": [
        {
          "output_type": "execute_result",
          "data": {
            "text/plain": [
              "509"
            ]
          },
          "metadata": {},
          "execution_count": 62
        }
      ]
    },
    {
      "cell_type": "code",
      "source": [
        "model = dc.models.GATModel(n_tasks=1, mode='regression', dropout=0.2,  graph_conv_layers = [64, 64], dense_layer_size = 128)\n",
        "model.fit(train_dataset, nb_epoch=50)"
      ],
      "metadata": {
        "id": "-EX_8H9nSvib",
        "colab": {
          "base_uri": "https://localhost:8080/"
        },
        "outputId": "0230a845-7da6-4d80-d24e-f90339e8fd5d"
      },
      "execution_count": null,
      "outputs": [
        {
          "output_type": "execute_result",
          "data": {
            "text/plain": [
              "2.671858825683594"
            ]
          },
          "metadata": {},
          "execution_count": 63
        }
      ]
    },
    {
      "cell_type": "code",
      "source": [
        "from sklearn.metrics import r2_score\n",
        "y_pred_test = model.predict(test_dataset)\n",
        "y_pred_train = model.predict(train_dataset)\n",
        "\n",
        "print(\"Train r2 score: \", r2_score(y_pred_train, train_dataset.y))\n",
        "print(\"Test r2 score: \", r2_score(y_pred_test, test_dataset.y))"
      ],
      "metadata": {
        "id": "NUXTk2GotAfR",
        "colab": {
          "base_uri": "https://localhost:8080/"
        },
        "outputId": "b012adae-f42f-400f-c416-d3eb5c5f8379"
      },
      "execution_count": null,
      "outputs": [
        {
          "output_type": "stream",
          "name": "stdout",
          "text": [
            "Train r2 score:  0.870859838318558\n",
            "Test r2 score:  0.8540553268656076\n"
          ]
        }
      ]
    },
    {
      "cell_type": "code",
      "source": [
        "metric = dc.metrics.Metric(dc.metrics.pearson_r2_score)\n",
        "print(\"Training set score:\", model.evaluate(train_dataset, [metric]))\n",
        "print(\"Test set score:\", model.evaluate(test_dataset, [metric]))"
      ],
      "metadata": {
        "id": "lJoVqz8SS0mL",
        "colab": {
          "base_uri": "https://localhost:8080/"
        },
        "outputId": "f34e1761-fb98-458b-9863-60cdb82d7da2"
      },
      "execution_count": null,
      "outputs": [
        {
          "output_type": "stream",
          "name": "stdout",
          "text": [
            "Training set score: {'pearson_r2_score': 0.8920184446224242}\n",
            "Test set score: {'pearson_r2_score': 0.8885254989438204}\n"
          ]
        }
      ]
    },
    {
      "cell_type": "markdown",
      "source": [
        "**DAG Model**"
      ],
      "metadata": {
        "id": "4B9pW43KT-gU"
      }
    },
    {
      "cell_type": "code",
      "source": [
        "with dc.utils.UniversalNamedTemporaryFile(mode='w') as tmpfile:\n",
        "    df.to_csv(tmpfile.name)\n",
        "    loader = dc.data.CSVLoader([\"task1\"], feature_field=\"smiles\",\n",
        "                             featurizer=dc.feat.ConvMolFeaturizer())\n",
        "    dataset = loader.create_dataset(tmpfile.name)\n",
        "len(dataset)"
      ],
      "metadata": {
        "id": "-Uwv4sfwUQTU",
        "colab": {
          "base_uri": "https://localhost:8080/"
        },
        "outputId": "df19c8f4-2486-4840-b0d2-599b83e87ac3"
      },
      "execution_count": null,
      "outputs": [
        {
          "output_type": "execute_result",
          "data": {
            "text/plain": [
              "637"
            ]
          },
          "metadata": {},
          "execution_count": 66
        }
      ]
    },
    {
      "cell_type": "code",
      "source": [
        "trans = dc.trans.DAGTransformer(max_atoms=50)\n",
        "dataset = trans.transform(dataset)"
      ],
      "metadata": {
        "id": "Mtm6emqdWRMs"
      },
      "execution_count": null,
      "outputs": []
    },
    {
      "cell_type": "code",
      "source": [
        "splitter = dc.splits.RandomSplitter()\n",
        "train_dataset, test_dataset = splitter.train_test_split(dataset=dataset, frac_train=.80, seed=9)\n",
        "len(train_dataset)"
      ],
      "metadata": {
        "id": "nhpdK6AbUSv_",
        "colab": {
          "base_uri": "https://localhost:8080/"
        },
        "outputId": "46eeff71-fd39-4248-d007-15fa58eebbeb"
      },
      "execution_count": null,
      "outputs": [
        {
          "output_type": "execute_result",
          "data": {
            "text/plain": [
              "509"
            ]
          },
          "metadata": {},
          "execution_count": 68
        }
      ]
    },
    {
      "cell_type": "code",
      "source": [
        "model = dc.models.DAGModel(n_tasks=1, mode='regression', dropout=0.2,  n_graph_feat=30, n_outputs=30, layer_sizes=[100], layer_sizes_gather=[100])\n",
        "model.fit(train_dataset, nb_epoch=30)"
      ],
      "metadata": {
        "id": "i66GS_NeUZID",
        "colab": {
          "base_uri": "https://localhost:8080/"
        },
        "outputId": "87dc97f2-9080-45aa-dade-225dedaee40f"
      },
      "execution_count": null,
      "outputs": [
        {
          "output_type": "execute_result",
          "data": {
            "text/plain": [
              "3.1991458892822267"
            ]
          },
          "metadata": {},
          "execution_count": 69
        }
      ]
    },
    {
      "cell_type": "code",
      "source": [
        "from sklearn.metrics import r2_score\n",
        "y_pred_test = model.predict(test_dataset)\n",
        "y_pred_train = model.predict(train_dataset)\n",
        "\n",
        "print(\"Train r2 score: \", r2_score(y_pred_train, train_dataset.y))\n",
        "print(\"Test r2 score: \", r2_score(y_pred_test, test_dataset.y))"
      ],
      "metadata": {
        "id": "YlPamh1Mt4k-",
        "colab": {
          "base_uri": "https://localhost:8080/"
        },
        "outputId": "e91bb880-46aa-4400-80c0-d2b51f653b7f"
      },
      "execution_count": null,
      "outputs": [
        {
          "output_type": "stream",
          "name": "stdout",
          "text": [
            "Train r2 score:  0.8883538084732362\n",
            "Test r2 score:  0.7883480406523975\n"
          ]
        }
      ]
    },
    {
      "cell_type": "code",
      "source": [
        "metric = dc.metrics.Metric(dc.metrics.pearson_r2_score)\n",
        "print(\"Training set score:\", model.evaluate(train_dataset, [metric]))\n",
        "print(\"Test set score:\", model.evaluate(test_dataset, [metric]))"
      ],
      "metadata": {
        "id": "Wn9vZYYVUa6V",
        "colab": {
          "base_uri": "https://localhost:8080/"
        },
        "outputId": "fdd236df-a4dc-4395-8927-388c9fe7d06b"
      },
      "execution_count": null,
      "outputs": [
        {
          "output_type": "stream",
          "name": "stdout",
          "text": [
            "Training set score: {'pearson_r2_score': 0.9172509966915043}\n",
            "Test set score: {'pearson_r2_score': 0.8482615989868949}\n"
          ]
        }
      ]
    },
    {
      "cell_type": "markdown",
      "source": [
        "**AttentiveFP**"
      ],
      "metadata": {
        "id": "GipsAInaCq-P"
      }
    },
    {
      "cell_type": "code",
      "source": [
        "with dc.utils.UniversalNamedTemporaryFile(mode='w') as tmpfile:\n",
        "    df.to_csv(tmpfile.name)\n",
        "    loader = dc.data.CSVLoader([\"task1\"], feature_field=\"smiles\",\n",
        "                             featurizer=dc.feat.MolGraphConvFeaturizer(use_edges=True))\n",
        "    dataset = loader.create_dataset(tmpfile.name)\n",
        "len(dataset)"
      ],
      "metadata": {
        "id": "yIO0HSpfCzFa",
        "colab": {
          "base_uri": "https://localhost:8080/"
        },
        "outputId": "cb3da271-27d5-4349-e39f-b4802f99444d"
      },
      "execution_count": null,
      "outputs": [
        {
          "output_type": "execute_result",
          "data": {
            "text/plain": [
              "637"
            ]
          },
          "metadata": {},
          "execution_count": 72
        }
      ]
    },
    {
      "cell_type": "code",
      "source": [
        "splitter = dc.splits.RandomSplitter()\n",
        "train_dataset, test_dataset = splitter.train_test_split(dataset=dataset, frac_train=.80, seed=9)\n",
        "len(train_dataset)"
      ],
      "metadata": {
        "id": "KMh8OtoeC9Hx",
        "colab": {
          "base_uri": "https://localhost:8080/"
        },
        "outputId": "92d7d11b-3035-4b1f-fab3-7af397588cf9"
      },
      "execution_count": null,
      "outputs": [
        {
          "output_type": "execute_result",
          "data": {
            "text/plain": [
              "509"
            ]
          },
          "metadata": {},
          "execution_count": 73
        }
      ]
    },
    {
      "cell_type": "code",
      "source": [
        "model = dc.models.AttentiveFPModel(mode='regression', n_tasks=1, batch_size=16, learning_rate=0.001)\n",
        "model.fit(train_dataset, nb_epoch=30)"
      ],
      "metadata": {
        "id": "OpPP4dEzDAXa",
        "colab": {
          "base_uri": "https://localhost:8080/"
        },
        "outputId": "3a0958a3-6768-4192-e40b-05c294107136"
      },
      "execution_count": null,
      "outputs": [
        {
          "output_type": "execute_result",
          "data": {
            "text/plain": [
              "0.5686037699381511"
            ]
          },
          "metadata": {},
          "execution_count": 74
        }
      ]
    },
    {
      "cell_type": "code",
      "source": [
        "from sklearn.metrics import r2_score\n",
        "y_pred_test = model.predict(test_dataset)\n",
        "y_pred_train = model.predict(train_dataset)\n",
        "\n",
        "print(\"Train r2 score: \", r2_score(y_pred_train, train_dataset.y))\n",
        "print(\"Test r2 score: \", r2_score(y_pred_test, test_dataset.y))"
      ],
      "metadata": {
        "id": "R2pzwK4KDgIB",
        "colab": {
          "base_uri": "https://localhost:8080/"
        },
        "outputId": "80bc004c-0bd8-440b-9646-fb4f7991fc9f"
      },
      "execution_count": null,
      "outputs": [
        {
          "output_type": "stream",
          "name": "stdout",
          "text": [
            "Train r2 score:  0.9712329769119304\n",
            "Test r2 score:  0.9268034047760122\n"
          ]
        }
      ]
    },
    {
      "cell_type": "code",
      "source": [
        "metric = dc.metrics.Metric(dc.metrics.pearson_r2_score)\n",
        "print(\"Training set score:\", model.evaluate(train_dataset, [metric]))\n",
        "print(\"Test set score:\", model.evaluate(test_dataset, [metric]))"
      ],
      "metadata": {
        "id": "2wpIscwPDi4f"
      },
      "execution_count": null,
      "outputs": []
    },
    {
      "cell_type": "markdown",
      "source": [
        "## **Predictions of External Molecules**"
      ],
      "metadata": {
        "id": "ZbWJSvU8Ovdk"
      }
    },
    {
      "cell_type": "code",
      "source": [
        "df.iloc[56:58, :]"
      ],
      "metadata": {
        "colab": {
          "base_uri": "https://localhost:8080/",
          "height": 112
        },
        "id": "C7umEXcK_xbu",
        "outputId": "b129d132-f5a7-4b0a-ecf1-40e56276fc87"
      },
      "execution_count": null,
      "outputs": [
        {
          "output_type": "execute_result",
          "data": {
            "text/plain": [
              "                 iupac    smiles  task1   calc\n",
              "56  methylcyclopentane  CC1CCCC1   1.59  1.785\n",
              "57      2-bromopropane   CC(C)Br  -0.48  0.448"
            ],
            "text/html": [
              "\n",
              "  <div id=\"df-7669eebf-e72f-45ff-8566-c8e629a3033f\" class=\"colab-df-container\">\n",
              "    <div>\n",
              "<style scoped>\n",
              "    .dataframe tbody tr th:only-of-type {\n",
              "        vertical-align: middle;\n",
              "    }\n",
              "\n",
              "    .dataframe tbody tr th {\n",
              "        vertical-align: top;\n",
              "    }\n",
              "\n",
              "    .dataframe thead th {\n",
              "        text-align: right;\n",
              "    }\n",
              "</style>\n",
              "<table border=\"1\" class=\"dataframe\">\n",
              "  <thead>\n",
              "    <tr style=\"text-align: right;\">\n",
              "      <th></th>\n",
              "      <th>iupac</th>\n",
              "      <th>smiles</th>\n",
              "      <th>task1</th>\n",
              "      <th>calc</th>\n",
              "    </tr>\n",
              "  </thead>\n",
              "  <tbody>\n",
              "    <tr>\n",
              "      <th>56</th>\n",
              "      <td>methylcyclopentane</td>\n",
              "      <td>CC1CCCC1</td>\n",
              "      <td>1.59</td>\n",
              "      <td>1.785</td>\n",
              "    </tr>\n",
              "    <tr>\n",
              "      <th>57</th>\n",
              "      <td>2-bromopropane</td>\n",
              "      <td>CC(C)Br</td>\n",
              "      <td>-0.48</td>\n",
              "      <td>0.448</td>\n",
              "    </tr>\n",
              "  </tbody>\n",
              "</table>\n",
              "</div>\n",
              "    <div class=\"colab-df-buttons\">\n",
              "\n",
              "  <div class=\"colab-df-container\">\n",
              "    <button class=\"colab-df-convert\" onclick=\"convertToInteractive('df-7669eebf-e72f-45ff-8566-c8e629a3033f')\"\n",
              "            title=\"Convert this dataframe to an interactive table.\"\n",
              "            style=\"display:none;\">\n",
              "\n",
              "  <svg xmlns=\"http://www.w3.org/2000/svg\" height=\"24px\" viewBox=\"0 -960 960 960\">\n",
              "    <path d=\"M120-120v-720h720v720H120Zm60-500h600v-160H180v160Zm220 220h160v-160H400v160Zm0 220h160v-160H400v160ZM180-400h160v-160H180v160Zm440 0h160v-160H620v160ZM180-180h160v-160H180v160Zm440 0h160v-160H620v160Z\"/>\n",
              "  </svg>\n",
              "    </button>\n",
              "\n",
              "  <style>\n",
              "    .colab-df-container {\n",
              "      display:flex;\n",
              "      gap: 12px;\n",
              "    }\n",
              "\n",
              "    .colab-df-convert {\n",
              "      background-color: #E8F0FE;\n",
              "      border: none;\n",
              "      border-radius: 50%;\n",
              "      cursor: pointer;\n",
              "      display: none;\n",
              "      fill: #1967D2;\n",
              "      height: 32px;\n",
              "      padding: 0 0 0 0;\n",
              "      width: 32px;\n",
              "    }\n",
              "\n",
              "    .colab-df-convert:hover {\n",
              "      background-color: #E2EBFA;\n",
              "      box-shadow: 0px 1px 2px rgba(60, 64, 67, 0.3), 0px 1px 3px 1px rgba(60, 64, 67, 0.15);\n",
              "      fill: #174EA6;\n",
              "    }\n",
              "\n",
              "    .colab-df-buttons div {\n",
              "      margin-bottom: 4px;\n",
              "    }\n",
              "\n",
              "    [theme=dark] .colab-df-convert {\n",
              "      background-color: #3B4455;\n",
              "      fill: #D2E3FC;\n",
              "    }\n",
              "\n",
              "    [theme=dark] .colab-df-convert:hover {\n",
              "      background-color: #434B5C;\n",
              "      box-shadow: 0px 1px 3px 1px rgba(0, 0, 0, 0.15);\n",
              "      filter: drop-shadow(0px 1px 2px rgba(0, 0, 0, 0.3));\n",
              "      fill: #FFFFFF;\n",
              "    }\n",
              "  </style>\n",
              "\n",
              "    <script>\n",
              "      const buttonEl =\n",
              "        document.querySelector('#df-7669eebf-e72f-45ff-8566-c8e629a3033f button.colab-df-convert');\n",
              "      buttonEl.style.display =\n",
              "        google.colab.kernel.accessAllowed ? 'block' : 'none';\n",
              "\n",
              "      async function convertToInteractive(key) {\n",
              "        const element = document.querySelector('#df-7669eebf-e72f-45ff-8566-c8e629a3033f');\n",
              "        const dataTable =\n",
              "          await google.colab.kernel.invokeFunction('convertToInteractive',\n",
              "                                                    [key], {});\n",
              "        if (!dataTable) return;\n",
              "\n",
              "        const docLinkHtml = 'Like what you see? Visit the ' +\n",
              "          '<a target=\"_blank\" href=https://colab.research.google.com/notebooks/data_table.ipynb>data table notebook</a>'\n",
              "          + ' to learn more about interactive tables.';\n",
              "        element.innerHTML = '';\n",
              "        dataTable['output_type'] = 'display_data';\n",
              "        await google.colab.output.renderOutput(dataTable, element);\n",
              "        const docLink = document.createElement('div');\n",
              "        docLink.innerHTML = docLinkHtml;\n",
              "        element.appendChild(docLink);\n",
              "      }\n",
              "    </script>\n",
              "  </div>\n",
              "\n",
              "\n",
              "<div id=\"df-e3497ca0-7ec8-4982-a72f-e0fa6cb7119c\">\n",
              "  <button class=\"colab-df-quickchart\" onclick=\"quickchart('df-e3497ca0-7ec8-4982-a72f-e0fa6cb7119c')\"\n",
              "            title=\"Suggest charts\"\n",
              "            style=\"display:none;\">\n",
              "\n",
              "<svg xmlns=\"http://www.w3.org/2000/svg\" height=\"24px\"viewBox=\"0 0 24 24\"\n",
              "     width=\"24px\">\n",
              "    <g>\n",
              "        <path d=\"M19 3H5c-1.1 0-2 .9-2 2v14c0 1.1.9 2 2 2h14c1.1 0 2-.9 2-2V5c0-1.1-.9-2-2-2zM9 17H7v-7h2v7zm4 0h-2V7h2v10zm4 0h-2v-4h2v4z\"/>\n",
              "    </g>\n",
              "</svg>\n",
              "  </button>\n",
              "\n",
              "<style>\n",
              "  .colab-df-quickchart {\n",
              "      --bg-color: #E8F0FE;\n",
              "      --fill-color: #1967D2;\n",
              "      --hover-bg-color: #E2EBFA;\n",
              "      --hover-fill-color: #174EA6;\n",
              "      --disabled-fill-color: #AAA;\n",
              "      --disabled-bg-color: #DDD;\n",
              "  }\n",
              "\n",
              "  [theme=dark] .colab-df-quickchart {\n",
              "      --bg-color: #3B4455;\n",
              "      --fill-color: #D2E3FC;\n",
              "      --hover-bg-color: #434B5C;\n",
              "      --hover-fill-color: #FFFFFF;\n",
              "      --disabled-bg-color: #3B4455;\n",
              "      --disabled-fill-color: #666;\n",
              "  }\n",
              "\n",
              "  .colab-df-quickchart {\n",
              "    background-color: var(--bg-color);\n",
              "    border: none;\n",
              "    border-radius: 50%;\n",
              "    cursor: pointer;\n",
              "    display: none;\n",
              "    fill: var(--fill-color);\n",
              "    height: 32px;\n",
              "    padding: 0;\n",
              "    width: 32px;\n",
              "  }\n",
              "\n",
              "  .colab-df-quickchart:hover {\n",
              "    background-color: var(--hover-bg-color);\n",
              "    box-shadow: 0 1px 2px rgba(60, 64, 67, 0.3), 0 1px 3px 1px rgba(60, 64, 67, 0.15);\n",
              "    fill: var(--button-hover-fill-color);\n",
              "  }\n",
              "\n",
              "  .colab-df-quickchart-complete:disabled,\n",
              "  .colab-df-quickchart-complete:disabled:hover {\n",
              "    background-color: var(--disabled-bg-color);\n",
              "    fill: var(--disabled-fill-color);\n",
              "    box-shadow: none;\n",
              "  }\n",
              "\n",
              "  .colab-df-spinner {\n",
              "    border: 2px solid var(--fill-color);\n",
              "    border-color: transparent;\n",
              "    border-bottom-color: var(--fill-color);\n",
              "    animation:\n",
              "      spin 1s steps(1) infinite;\n",
              "  }\n",
              "\n",
              "  @keyframes spin {\n",
              "    0% {\n",
              "      border-color: transparent;\n",
              "      border-bottom-color: var(--fill-color);\n",
              "      border-left-color: var(--fill-color);\n",
              "    }\n",
              "    20% {\n",
              "      border-color: transparent;\n",
              "      border-left-color: var(--fill-color);\n",
              "      border-top-color: var(--fill-color);\n",
              "    }\n",
              "    30% {\n",
              "      border-color: transparent;\n",
              "      border-left-color: var(--fill-color);\n",
              "      border-top-color: var(--fill-color);\n",
              "      border-right-color: var(--fill-color);\n",
              "    }\n",
              "    40% {\n",
              "      border-color: transparent;\n",
              "      border-right-color: var(--fill-color);\n",
              "      border-top-color: var(--fill-color);\n",
              "    }\n",
              "    60% {\n",
              "      border-color: transparent;\n",
              "      border-right-color: var(--fill-color);\n",
              "    }\n",
              "    80% {\n",
              "      border-color: transparent;\n",
              "      border-right-color: var(--fill-color);\n",
              "      border-bottom-color: var(--fill-color);\n",
              "    }\n",
              "    90% {\n",
              "      border-color: transparent;\n",
              "      border-bottom-color: var(--fill-color);\n",
              "    }\n",
              "  }\n",
              "</style>\n",
              "\n",
              "  <script>\n",
              "    async function quickchart(key) {\n",
              "      const quickchartButtonEl =\n",
              "        document.querySelector('#' + key + ' button');\n",
              "      quickchartButtonEl.disabled = true;  // To prevent multiple clicks.\n",
              "      quickchartButtonEl.classList.add('colab-df-spinner');\n",
              "      try {\n",
              "        const charts = await google.colab.kernel.invokeFunction(\n",
              "            'suggestCharts', [key], {});\n",
              "      } catch (error) {\n",
              "        console.error('Error during call to suggestCharts:', error);\n",
              "      }\n",
              "      quickchartButtonEl.classList.remove('colab-df-spinner');\n",
              "      quickchartButtonEl.classList.add('colab-df-quickchart-complete');\n",
              "    }\n",
              "    (() => {\n",
              "      let quickchartButtonEl =\n",
              "        document.querySelector('#df-e3497ca0-7ec8-4982-a72f-e0fa6cb7119c button');\n",
              "      quickchartButtonEl.style.display =\n",
              "        google.colab.kernel.accessAllowed ? 'block' : 'none';\n",
              "    })();\n",
              "  </script>\n",
              "</div>\n",
              "\n",
              "    </div>\n",
              "  </div>\n"
            ],
            "application/vnd.google.colaboratory.intrinsic+json": {
              "type": "dataframe",
              "summary": "{\n  \"name\": \"df\",\n  \"rows\": 2,\n  \"fields\": [\n    {\n      \"column\": \"iupac\",\n      \"properties\": {\n        \"dtype\": \"string\",\n        \"num_unique_values\": 2,\n        \"samples\": [\n          \"2-bromopropane\",\n          \"methylcyclopentane\"\n        ],\n        \"semantic_type\": \"\",\n        \"description\": \"\"\n      }\n    },\n    {\n      \"column\": \"smiles\",\n      \"properties\": {\n        \"dtype\": \"string\",\n        \"num_unique_values\": 2,\n        \"samples\": [\n          \"CC(C)Br\",\n          \"CC1CCCC1\"\n        ],\n        \"semantic_type\": \"\",\n        \"description\": \"\"\n      }\n    },\n    {\n      \"column\": \"task1\",\n      \"properties\": {\n        \"dtype\": \"number\",\n        \"std\": 1.4637110370561537,\n        \"min\": -0.48,\n        \"max\": 1.59,\n        \"num_unique_values\": 2,\n        \"samples\": [\n          -0.48,\n          1.59\n        ],\n        \"semantic_type\": \"\",\n        \"description\": \"\"\n      }\n    },\n    {\n      \"column\": \"calc\",\n      \"properties\": {\n        \"dtype\": \"number\",\n        \"std\": 0.945401766446414,\n        \"min\": 0.448,\n        \"max\": 1.785,\n        \"num_unique_values\": 2,\n        \"samples\": [\n          0.448,\n          1.785\n        ],\n        \"semantic_type\": \"\",\n        \"description\": \"\"\n      }\n    }\n  ]\n}"
            }
          },
          "metadata": {},
          "execution_count": 77
        }
      ]
    },
    {
      "cell_type": "code",
      "source": [
        "ex_smiles = ['CC1CCCC1', 'CC(C)Br']"
      ],
      "metadata": {
        "id": "LOs2LmCdo4bz"
      },
      "execution_count": null,
      "outputs": []
    },
    {
      "cell_type": "code",
      "source": [
        "featurizer = dc.feat.MolGraphConvFeaturizer(use_edges=True)\n",
        "X = featurizer.featurize(ex_smiles)\n",
        "ex_dataset = dc.data.NumpyDataset(X=X)"
      ],
      "metadata": {
        "id": "wFgUDKi1EUk2"
      },
      "execution_count": null,
      "outputs": []
    },
    {
      "cell_type": "code",
      "source": [
        "ext_test_score = model.predict(ex_dataset)"
      ],
      "metadata": {
        "id": "D5nAJV6grtVx"
      },
      "execution_count": null,
      "outputs": []
    },
    {
      "cell_type": "code",
      "source": [
        "ext_test_score"
      ],
      "metadata": {
        "id": "w22_PjSWsdGZ",
        "colab": {
          "base_uri": "https://localhost:8080/"
        },
        "outputId": "a8338f9d-25b1-4912-8907-b81d1fa50110"
      },
      "execution_count": null,
      "outputs": [
        {
          "output_type": "execute_result",
          "data": {
            "text/plain": [
              "array([[ 1.7229227 ],\n",
              "       [-0.41806248]], dtype=float32)"
            ]
          },
          "metadata": {},
          "execution_count": 81
        }
      ]
    }
  ]
}